{
 "cells": [
  {
   "cell_type": "code",
   "execution_count": 1,
   "id": "15f92f54",
   "metadata": {},
   "outputs": [
    {
     "data": {
      "application/javascript": [
       "(function(root) {\n",
       "  function now() {\n",
       "    return new Date();\n",
       "  }\n",
       "\n",
       "  var force = true;\n",
       "\n",
       "  if (typeof root._bokeh_onload_callbacks === \"undefined\" || force === true) {\n",
       "    root._bokeh_onload_callbacks = [];\n",
       "    root._bokeh_is_loading = undefined;\n",
       "  }\n",
       "\n",
       "  if (typeof (root._bokeh_timeout) === \"undefined\" || force === true) {\n",
       "    root._bokeh_timeout = Date.now() + 5000;\n",
       "    root._bokeh_failed_load = false;\n",
       "  }\n",
       "\n",
       "  function run_callbacks() {\n",
       "    try {\n",
       "      root._bokeh_onload_callbacks.forEach(function(callback) {\n",
       "        if (callback != null)\n",
       "          callback();\n",
       "      });\n",
       "    } finally {\n",
       "      delete root._bokeh_onload_callbacks\n",
       "    }\n",
       "    console.debug(\"Bokeh: all callbacks have finished\");\n",
       "  }\n",
       "\n",
       "  function load_libs(css_urls, js_urls, js_modules, callback) {\n",
       "    if (css_urls == null) css_urls = [];\n",
       "    if (js_urls == null) js_urls = [];\n",
       "    if (js_modules == null) js_modules = [];\n",
       "\n",
       "    root._bokeh_onload_callbacks.push(callback);\n",
       "    if (root._bokeh_is_loading > 0) {\n",
       "      console.debug(\"Bokeh: BokehJS is being loaded, scheduling callback at\", now());\n",
       "      return null;\n",
       "    }\n",
       "    if (js_urls.length === 0 && js_modules.length === 0) {\n",
       "      run_callbacks();\n",
       "      return null;\n",
       "    }\n",
       "    console.debug(\"Bokeh: BokehJS not loaded, scheduling load and callback at\", now());\n",
       "\n",
       "    function on_load() {\n",
       "      root._bokeh_is_loading--;\n",
       "      if (root._bokeh_is_loading === 0) {\n",
       "        console.debug(\"Bokeh: all BokehJS libraries/stylesheets loaded\");\n",
       "        run_callbacks()\n",
       "      }\n",
       "    }\n",
       "\n",
       "    function on_error() {\n",
       "      console.error(\"failed to load \" + url);\n",
       "    }\n",
       "\n",
       "    for (var i = 0; i < css_urls.length; i++) {\n",
       "      var url = css_urls[i];\n",
       "      const element = document.createElement(\"link\");\n",
       "      element.onload = on_load;\n",
       "      element.onerror = on_error;\n",
       "      element.rel = \"stylesheet\";\n",
       "      element.type = \"text/css\";\n",
       "      element.href = url;\n",
       "      console.debug(\"Bokeh: injecting link tag for BokehJS stylesheet: \", url);\n",
       "      document.body.appendChild(element);\n",
       "    }\n",
       "\n",
       "    var skip = [];\n",
       "    if (window.requirejs) {\n",
       "      window.requirejs.config({'packages': {}, 'paths': {'tabulator': 'https://cdn.jsdelivr.net/npm/tabulator-tables@5.3.2/dist/js/tabulator', 'moment': 'https://cdn.jsdelivr.net/npm/luxon/build/global/luxon.min', 'gridstack': 'https://cdn.jsdelivr.net/npm/gridstack@4.2.5/dist/gridstack-h5', 'notyf': 'https://cdn.jsdelivr.net/npm/notyf@3/notyf.min'}, 'shim': {'gridstack': {'exports': 'GridStack'}}});\n",
       "      require([\"tabulator\"], function(Tabulator) {\n",
       "\twindow.Tabulator = Tabulator\n",
       "\ton_load()\n",
       "      })\n",
       "      require([\"moment\"], function(moment) {\n",
       "\twindow.moment = moment\n",
       "\ton_load()\n",
       "      })\n",
       "      require([\"gridstack\"], function(GridStack) {\n",
       "\twindow.GridStack = GridStack\n",
       "\ton_load()\n",
       "      })\n",
       "      require([\"notyf\"], function() {\n",
       "\ton_load()\n",
       "      })\n",
       "      root._bokeh_is_loading = css_urls.length + 4;\n",
       "    } else {\n",
       "      root._bokeh_is_loading = css_urls.length + js_urls.length + js_modules.length;\n",
       "    }    if (((window['Tabulator'] !== undefined) && (!(window['Tabulator'] instanceof HTMLElement))) || window.requirejs) {\n",
       "      var urls = ['https://cdn.holoviz.org/panel/0.14.0/dist/bundled/datatabulator/tabulator-tables@5.3.2/dist/js/tabulator.js'];\n",
       "      for (var i = 0; i < urls.length; i++) {\n",
       "        skip.push(urls[i])\n",
       "      }\n",
       "    }    if (((window['moment'] !== undefined) && (!(window['moment'] instanceof HTMLElement))) || window.requirejs) {\n",
       "      var urls = ['https://cdn.holoviz.org/panel/0.14.0/dist/bundled/datatabulator/luxon/build/global/luxon.min.js'];\n",
       "      for (var i = 0; i < urls.length; i++) {\n",
       "        skip.push(urls[i])\n",
       "      }\n",
       "    }    if (((window['GridStack'] !== undefined) && (!(window['GridStack'] instanceof HTMLElement))) || window.requirejs) {\n",
       "      var urls = ['https://cdn.holoviz.org/panel/0.14.0/dist/bundled/gridstack/gridstack@4.2.5/dist/gridstack-h5.js'];\n",
       "      for (var i = 0; i < urls.length; i++) {\n",
       "        skip.push(urls[i])\n",
       "      }\n",
       "    }    if (((window['Notyf'] !== undefined) && (!(window['Notyf'] instanceof HTMLElement))) || window.requirejs) {\n",
       "      var urls = ['https://cdn.holoviz.org/panel/0.14.0/dist/bundled/notificationarea/notyf@3/notyf.min.js'];\n",
       "      for (var i = 0; i < urls.length; i++) {\n",
       "        skip.push(urls[i])\n",
       "      }\n",
       "    }    for (var i = 0; i < js_urls.length; i++) {\n",
       "      var url = js_urls[i];\n",
       "      if (skip.indexOf(url) >= 0) {\n",
       "\tif (!window.requirejs) {\n",
       "\t  on_load();\n",
       "\t}\n",
       "\tcontinue;\n",
       "      }\n",
       "      var element = document.createElement('script');\n",
       "      element.onload = on_load;\n",
       "      element.onerror = on_error;\n",
       "      element.async = false;\n",
       "      element.src = url;\n",
       "      console.debug(\"Bokeh: injecting script tag for BokehJS library: \", url);\n",
       "      document.head.appendChild(element);\n",
       "    }\n",
       "    for (var i = 0; i < js_modules.length; i++) {\n",
       "      var url = js_modules[i];\n",
       "      if (skip.indexOf(url) >= 0) {\n",
       "\tif (!window.requirejs) {\n",
       "\t  on_load();\n",
       "\t}\n",
       "\tcontinue;\n",
       "      }\n",
       "      var element = document.createElement('script');\n",
       "      element.onload = on_load;\n",
       "      element.onerror = on_error;\n",
       "      element.async = false;\n",
       "      element.src = url;\n",
       "      element.type = \"module\";\n",
       "      console.debug(\"Bokeh: injecting script tag for BokehJS library: \", url);\n",
       "      document.head.appendChild(element);\n",
       "    }\n",
       "    if (!js_urls.length && !js_modules.length) {\n",
       "      on_load()\n",
       "    }\n",
       "  };\n",
       "\n",
       "  function inject_raw_css(css) {\n",
       "    const element = document.createElement(\"style\");\n",
       "    element.appendChild(document.createTextNode(css));\n",
       "    document.body.appendChild(element);\n",
       "  }\n",
       "\n",
       "  var js_urls = [\"https://cdn.holoviz.org/panel/0.14.0/dist/bundled/datatabulator/tabulator-tables@5.3.2/dist/js/tabulator.js\", \"https://cdn.holoviz.org/panel/0.14.0/dist/bundled/datatabulator/luxon/build/global/luxon.min.js\", \"https://cdn.bokeh.org/bokeh/release/bokeh-2.4.2.min.js\", \"https://cdn.bokeh.org/bokeh/release/bokeh-gl-2.4.2.min.js\", \"https://cdn.bokeh.org/bokeh/release/bokeh-widgets-2.4.2.min.js\", \"https://cdn.bokeh.org/bokeh/release/bokeh-tables-2.4.2.min.js\", \"https://cdn.bokeh.org/bokeh/release/bokeh-mathjax-2.4.2.min.js\", \"https://unpkg.com/@holoviz/panel@0.14.0/dist/panel.min.js\"];\n",
       "  var js_modules = [];\n",
       "  var css_urls = [\"https://cdn.holoviz.org/panel/0.14.0/dist/bundled/datatabulator/tabulator-tables@5.3.2/dist/css/tabulator_simple.min.css\", \"https://cdn.holoviz.org/panel/0.14.0/dist/css/alerts.css\", \"https://cdn.holoviz.org/panel/0.14.0/dist/css/card.css\", \"https://cdn.holoviz.org/panel/0.14.0/dist/css/dataframe.css\", \"https://cdn.holoviz.org/panel/0.14.0/dist/css/debugger.css\", \"https://cdn.holoviz.org/panel/0.14.0/dist/css/json.css\", \"https://cdn.holoviz.org/panel/0.14.0/dist/css/loading.css\", \"https://cdn.holoviz.org/panel/0.14.0/dist/css/markdown.css\", \"https://cdn.holoviz.org/panel/0.14.0/dist/css/widgets.css\"];\n",
       "  var inline_js = [    function(Bokeh) {\n",
       "      inject_raw_css(\"\\n    .bk.pn-loading.arc:before {\\n      background-image: url(\\\"data:image/svg+xml;base64,PHN2ZyB4bWxucz0iaHR0cDovL3d3dy53My5vcmcvMjAwMC9zdmciIHN0eWxlPSJtYXJnaW46IGF1dG87IGJhY2tncm91bmQ6IG5vbmU7IGRpc3BsYXk6IGJsb2NrOyBzaGFwZS1yZW5kZXJpbmc6IGF1dG87IiB2aWV3Qm94PSIwIDAgMTAwIDEwMCIgcHJlc2VydmVBc3BlY3RSYXRpbz0ieE1pZFlNaWQiPiAgPGNpcmNsZSBjeD0iNTAiIGN5PSI1MCIgZmlsbD0ibm9uZSIgc3Ryb2tlPSIjYzNjM2MzIiBzdHJva2Utd2lkdGg9IjEwIiByPSIzNSIgc3Ryb2tlLWRhc2hhcnJheT0iMTY0LjkzMzYxNDMxMzQ2NDE1IDU2Ljk3Nzg3MTQzNzgyMTM4Ij4gICAgPGFuaW1hdGVUcmFuc2Zvcm0gYXR0cmlidXRlTmFtZT0idHJhbnNmb3JtIiB0eXBlPSJyb3RhdGUiIHJlcGVhdENvdW50PSJpbmRlZmluaXRlIiBkdXI9IjFzIiB2YWx1ZXM9IjAgNTAgNTA7MzYwIDUwIDUwIiBrZXlUaW1lcz0iMDsxIj48L2FuaW1hdGVUcmFuc2Zvcm0+ICA8L2NpcmNsZT48L3N2Zz4=\\\");\\n      background-size: auto calc(min(50%, 400px));\\n    }\\n    \");\n",
       "    },    function(Bokeh) {\n",
       "      Bokeh.set_log_level(\"info\");\n",
       "    },\n",
       "function(Bokeh) {} // ensure no trailing comma for IE\n",
       "  ];\n",
       "\n",
       "  function run_inline_js() {\n",
       "    if ((root.Bokeh !== undefined) || (force === true)) {\n",
       "      for (var i = 0; i < inline_js.length; i++) {\n",
       "        inline_js[i].call(root, root.Bokeh);\n",
       "      }} else if (Date.now() < root._bokeh_timeout) {\n",
       "      setTimeout(run_inline_js, 100);\n",
       "    } else if (!root._bokeh_failed_load) {\n",
       "      console.log(\"Bokeh: BokehJS failed to load within specified timeout.\");\n",
       "      root._bokeh_failed_load = true;\n",
       "    }\n",
       "  }\n",
       "\n",
       "  if (root._bokeh_is_loading === 0) {\n",
       "    console.debug(\"Bokeh: BokehJS loaded, going straight to plotting\");\n",
       "    run_inline_js();\n",
       "  } else {\n",
       "    load_libs(css_urls, js_urls, js_modules, function() {\n",
       "      console.debug(\"Bokeh: BokehJS plotting callback run at\", now());\n",
       "      run_inline_js();\n",
       "    });\n",
       "  }\n",
       "}(window));"
      ],
      "application/vnd.holoviews_load.v0+json": "(function(root) {\n  function now() {\n    return new Date();\n  }\n\n  var force = true;\n\n  if (typeof root._bokeh_onload_callbacks === \"undefined\" || force === true) {\n    root._bokeh_onload_callbacks = [];\n    root._bokeh_is_loading = undefined;\n  }\n\n  if (typeof (root._bokeh_timeout) === \"undefined\" || force === true) {\n    root._bokeh_timeout = Date.now() + 5000;\n    root._bokeh_failed_load = false;\n  }\n\n  function run_callbacks() {\n    try {\n      root._bokeh_onload_callbacks.forEach(function(callback) {\n        if (callback != null)\n          callback();\n      });\n    } finally {\n      delete root._bokeh_onload_callbacks\n    }\n    console.debug(\"Bokeh: all callbacks have finished\");\n  }\n\n  function load_libs(css_urls, js_urls, js_modules, callback) {\n    if (css_urls == null) css_urls = [];\n    if (js_urls == null) js_urls = [];\n    if (js_modules == null) js_modules = [];\n\n    root._bokeh_onload_callbacks.push(callback);\n    if (root._bokeh_is_loading > 0) {\n      console.debug(\"Bokeh: BokehJS is being loaded, scheduling callback at\", now());\n      return null;\n    }\n    if (js_urls.length === 0 && js_modules.length === 0) {\n      run_callbacks();\n      return null;\n    }\n    console.debug(\"Bokeh: BokehJS not loaded, scheduling load and callback at\", now());\n\n    function on_load() {\n      root._bokeh_is_loading--;\n      if (root._bokeh_is_loading === 0) {\n        console.debug(\"Bokeh: all BokehJS libraries/stylesheets loaded\");\n        run_callbacks()\n      }\n    }\n\n    function on_error() {\n      console.error(\"failed to load \" + url);\n    }\n\n    for (var i = 0; i < css_urls.length; i++) {\n      var url = css_urls[i];\n      const element = document.createElement(\"link\");\n      element.onload = on_load;\n      element.onerror = on_error;\n      element.rel = \"stylesheet\";\n      element.type = \"text/css\";\n      element.href = url;\n      console.debug(\"Bokeh: injecting link tag for BokehJS stylesheet: \", url);\n      document.body.appendChild(element);\n    }\n\n    var skip = [];\n    if (window.requirejs) {\n      window.requirejs.config({'packages': {}, 'paths': {'tabulator': 'https://cdn.jsdelivr.net/npm/tabulator-tables@5.3.2/dist/js/tabulator', 'moment': 'https://cdn.jsdelivr.net/npm/luxon/build/global/luxon.min', 'gridstack': 'https://cdn.jsdelivr.net/npm/gridstack@4.2.5/dist/gridstack-h5', 'notyf': 'https://cdn.jsdelivr.net/npm/notyf@3/notyf.min'}, 'shim': {'gridstack': {'exports': 'GridStack'}}});\n      require([\"tabulator\"], function(Tabulator) {\n\twindow.Tabulator = Tabulator\n\ton_load()\n      })\n      require([\"moment\"], function(moment) {\n\twindow.moment = moment\n\ton_load()\n      })\n      require([\"gridstack\"], function(GridStack) {\n\twindow.GridStack = GridStack\n\ton_load()\n      })\n      require([\"notyf\"], function() {\n\ton_load()\n      })\n      root._bokeh_is_loading = css_urls.length + 4;\n    } else {\n      root._bokeh_is_loading = css_urls.length + js_urls.length + js_modules.length;\n    }    if (((window['Tabulator'] !== undefined) && (!(window['Tabulator'] instanceof HTMLElement))) || window.requirejs) {\n      var urls = ['https://cdn.holoviz.org/panel/0.14.0/dist/bundled/datatabulator/tabulator-tables@5.3.2/dist/js/tabulator.js'];\n      for (var i = 0; i < urls.length; i++) {\n        skip.push(urls[i])\n      }\n    }    if (((window['moment'] !== undefined) && (!(window['moment'] instanceof HTMLElement))) || window.requirejs) {\n      var urls = ['https://cdn.holoviz.org/panel/0.14.0/dist/bundled/datatabulator/luxon/build/global/luxon.min.js'];\n      for (var i = 0; i < urls.length; i++) {\n        skip.push(urls[i])\n      }\n    }    if (((window['GridStack'] !== undefined) && (!(window['GridStack'] instanceof HTMLElement))) || window.requirejs) {\n      var urls = ['https://cdn.holoviz.org/panel/0.14.0/dist/bundled/gridstack/gridstack@4.2.5/dist/gridstack-h5.js'];\n      for (var i = 0; i < urls.length; i++) {\n        skip.push(urls[i])\n      }\n    }    if (((window['Notyf'] !== undefined) && (!(window['Notyf'] instanceof HTMLElement))) || window.requirejs) {\n      var urls = ['https://cdn.holoviz.org/panel/0.14.0/dist/bundled/notificationarea/notyf@3/notyf.min.js'];\n      for (var i = 0; i < urls.length; i++) {\n        skip.push(urls[i])\n      }\n    }    for (var i = 0; i < js_urls.length; i++) {\n      var url = js_urls[i];\n      if (skip.indexOf(url) >= 0) {\n\tif (!window.requirejs) {\n\t  on_load();\n\t}\n\tcontinue;\n      }\n      var element = document.createElement('script');\n      element.onload = on_load;\n      element.onerror = on_error;\n      element.async = false;\n      element.src = url;\n      console.debug(\"Bokeh: injecting script tag for BokehJS library: \", url);\n      document.head.appendChild(element);\n    }\n    for (var i = 0; i < js_modules.length; i++) {\n      var url = js_modules[i];\n      if (skip.indexOf(url) >= 0) {\n\tif (!window.requirejs) {\n\t  on_load();\n\t}\n\tcontinue;\n      }\n      var element = document.createElement('script');\n      element.onload = on_load;\n      element.onerror = on_error;\n      element.async = false;\n      element.src = url;\n      element.type = \"module\";\n      console.debug(\"Bokeh: injecting script tag for BokehJS library: \", url);\n      document.head.appendChild(element);\n    }\n    if (!js_urls.length && !js_modules.length) {\n      on_load()\n    }\n  };\n\n  function inject_raw_css(css) {\n    const element = document.createElement(\"style\");\n    element.appendChild(document.createTextNode(css));\n    document.body.appendChild(element);\n  }\n\n  var js_urls = [\"https://cdn.holoviz.org/panel/0.14.0/dist/bundled/datatabulator/tabulator-tables@5.3.2/dist/js/tabulator.js\", \"https://cdn.holoviz.org/panel/0.14.0/dist/bundled/datatabulator/luxon/build/global/luxon.min.js\", \"https://cdn.bokeh.org/bokeh/release/bokeh-2.4.2.min.js\", \"https://cdn.bokeh.org/bokeh/release/bokeh-gl-2.4.2.min.js\", \"https://cdn.bokeh.org/bokeh/release/bokeh-widgets-2.4.2.min.js\", \"https://cdn.bokeh.org/bokeh/release/bokeh-tables-2.4.2.min.js\", \"https://cdn.bokeh.org/bokeh/release/bokeh-mathjax-2.4.2.min.js\", \"https://unpkg.com/@holoviz/panel@0.14.0/dist/panel.min.js\"];\n  var js_modules = [];\n  var css_urls = [\"https://cdn.holoviz.org/panel/0.14.0/dist/bundled/datatabulator/tabulator-tables@5.3.2/dist/css/tabulator_simple.min.css\", \"https://cdn.holoviz.org/panel/0.14.0/dist/css/alerts.css\", \"https://cdn.holoviz.org/panel/0.14.0/dist/css/card.css\", \"https://cdn.holoviz.org/panel/0.14.0/dist/css/dataframe.css\", \"https://cdn.holoviz.org/panel/0.14.0/dist/css/debugger.css\", \"https://cdn.holoviz.org/panel/0.14.0/dist/css/json.css\", \"https://cdn.holoviz.org/panel/0.14.0/dist/css/loading.css\", \"https://cdn.holoviz.org/panel/0.14.0/dist/css/markdown.css\", \"https://cdn.holoviz.org/panel/0.14.0/dist/css/widgets.css\"];\n  var inline_js = [    function(Bokeh) {\n      inject_raw_css(\"\\n    .bk.pn-loading.arc:before {\\n      background-image: url(\\\"data:image/svg+xml;base64,PHN2ZyB4bWxucz0iaHR0cDovL3d3dy53My5vcmcvMjAwMC9zdmciIHN0eWxlPSJtYXJnaW46IGF1dG87IGJhY2tncm91bmQ6IG5vbmU7IGRpc3BsYXk6IGJsb2NrOyBzaGFwZS1yZW5kZXJpbmc6IGF1dG87IiB2aWV3Qm94PSIwIDAgMTAwIDEwMCIgcHJlc2VydmVBc3BlY3RSYXRpbz0ieE1pZFlNaWQiPiAgPGNpcmNsZSBjeD0iNTAiIGN5PSI1MCIgZmlsbD0ibm9uZSIgc3Ryb2tlPSIjYzNjM2MzIiBzdHJva2Utd2lkdGg9IjEwIiByPSIzNSIgc3Ryb2tlLWRhc2hhcnJheT0iMTY0LjkzMzYxNDMxMzQ2NDE1IDU2Ljk3Nzg3MTQzNzgyMTM4Ij4gICAgPGFuaW1hdGVUcmFuc2Zvcm0gYXR0cmlidXRlTmFtZT0idHJhbnNmb3JtIiB0eXBlPSJyb3RhdGUiIHJlcGVhdENvdW50PSJpbmRlZmluaXRlIiBkdXI9IjFzIiB2YWx1ZXM9IjAgNTAgNTA7MzYwIDUwIDUwIiBrZXlUaW1lcz0iMDsxIj48L2FuaW1hdGVUcmFuc2Zvcm0+ICA8L2NpcmNsZT48L3N2Zz4=\\\");\\n      background-size: auto calc(min(50%, 400px));\\n    }\\n    \");\n    },    function(Bokeh) {\n      Bokeh.set_log_level(\"info\");\n    },\nfunction(Bokeh) {} // ensure no trailing comma for IE\n  ];\n\n  function run_inline_js() {\n    if ((root.Bokeh !== undefined) || (force === true)) {\n      for (var i = 0; i < inline_js.length; i++) {\n        inline_js[i].call(root, root.Bokeh);\n      }} else if (Date.now() < root._bokeh_timeout) {\n      setTimeout(run_inline_js, 100);\n    } else if (!root._bokeh_failed_load) {\n      console.log(\"Bokeh: BokehJS failed to load within specified timeout.\");\n      root._bokeh_failed_load = true;\n    }\n  }\n\n  if (root._bokeh_is_loading === 0) {\n    console.debug(\"Bokeh: BokehJS loaded, going straight to plotting\");\n    run_inline_js();\n  } else {\n    load_libs(css_urls, js_urls, js_modules, function() {\n      console.debug(\"Bokeh: BokehJS plotting callback run at\", now());\n      run_inline_js();\n    });\n  }\n}(window));"
     },
     "metadata": {},
     "output_type": "display_data"
    },
    {
     "data": {
      "application/javascript": [
       "\n",
       "if ((window.PyViz === undefined) || (window.PyViz instanceof HTMLElement)) {\n",
       "  window.PyViz = {comms: {}, comm_status:{}, kernels:{}, receivers: {}, plot_index: []}\n",
       "}\n",
       "\n",
       "\n",
       "    function JupyterCommManager() {\n",
       "    }\n",
       "\n",
       "    JupyterCommManager.prototype.register_target = function(plot_id, comm_id, msg_handler) {\n",
       "      if (window.comm_manager || ((window.Jupyter !== undefined) && (Jupyter.notebook.kernel != null))) {\n",
       "        var comm_manager = window.comm_manager || Jupyter.notebook.kernel.comm_manager;\n",
       "        comm_manager.register_target(comm_id, function(comm) {\n",
       "          comm.on_msg(msg_handler);\n",
       "        });\n",
       "      } else if ((plot_id in window.PyViz.kernels) && (window.PyViz.kernels[plot_id])) {\n",
       "        window.PyViz.kernels[plot_id].registerCommTarget(comm_id, function(comm) {\n",
       "          comm.onMsg = msg_handler;\n",
       "        });\n",
       "      } else if (typeof google != 'undefined' && google.colab.kernel != null) {\n",
       "        google.colab.kernel.comms.registerTarget(comm_id, (comm) => {\n",
       "          var messages = comm.messages[Symbol.asyncIterator]();\n",
       "          function processIteratorResult(result) {\n",
       "            var message = result.value;\n",
       "            console.log(message)\n",
       "            var content = {data: message.data, comm_id};\n",
       "            var buffers = []\n",
       "            for (var buffer of message.buffers || []) {\n",
       "              buffers.push(new DataView(buffer))\n",
       "            }\n",
       "            var metadata = message.metadata || {};\n",
       "            var msg = {content, buffers, metadata}\n",
       "            msg_handler(msg);\n",
       "            return messages.next().then(processIteratorResult);\n",
       "          }\n",
       "          return messages.next().then(processIteratorResult);\n",
       "        })\n",
       "      }\n",
       "    }\n",
       "\n",
       "    JupyterCommManager.prototype.get_client_comm = function(plot_id, comm_id, msg_handler) {\n",
       "      if (comm_id in window.PyViz.comms) {\n",
       "        return window.PyViz.comms[comm_id];\n",
       "      } else if (window.comm_manager || ((window.Jupyter !== undefined) && (Jupyter.notebook.kernel != null))) {\n",
       "        var comm_manager = window.comm_manager || Jupyter.notebook.kernel.comm_manager;\n",
       "        var comm = comm_manager.new_comm(comm_id, {}, {}, {}, comm_id);\n",
       "        if (msg_handler) {\n",
       "          comm.on_msg(msg_handler);\n",
       "        }\n",
       "      } else if ((plot_id in window.PyViz.kernels) && (window.PyViz.kernels[plot_id])) {\n",
       "        var comm = window.PyViz.kernels[plot_id].connectToComm(comm_id);\n",
       "        comm.open();\n",
       "        if (msg_handler) {\n",
       "          comm.onMsg = msg_handler;\n",
       "        }\n",
       "      } else if (typeof google != 'undefined' && google.colab.kernel != null) {\n",
       "        var comm_promise = google.colab.kernel.comms.open(comm_id)\n",
       "        comm_promise.then((comm) => {\n",
       "          window.PyViz.comms[comm_id] = comm;\n",
       "          if (msg_handler) {\n",
       "            var messages = comm.messages[Symbol.asyncIterator]();\n",
       "            function processIteratorResult(result) {\n",
       "              var message = result.value;\n",
       "              var content = {data: message.data};\n",
       "              var metadata = message.metadata || {comm_id};\n",
       "              var msg = {content, metadata}\n",
       "              msg_handler(msg);\n",
       "              return messages.next().then(processIteratorResult);\n",
       "            }\n",
       "            return messages.next().then(processIteratorResult);\n",
       "          }\n",
       "        }) \n",
       "        var sendClosure = (data, metadata, buffers, disposeOnDone) => {\n",
       "          return comm_promise.then((comm) => {\n",
       "            comm.send(data, metadata, buffers, disposeOnDone);\n",
       "          });\n",
       "        };\n",
       "        var comm = {\n",
       "          send: sendClosure\n",
       "        };\n",
       "      }\n",
       "      window.PyViz.comms[comm_id] = comm;\n",
       "      return comm;\n",
       "    }\n",
       "    window.PyViz.comm_manager = new JupyterCommManager();\n",
       "    \n",
       "\n",
       "\n",
       "var JS_MIME_TYPE = 'application/javascript';\n",
       "var HTML_MIME_TYPE = 'text/html';\n",
       "var EXEC_MIME_TYPE = 'application/vnd.holoviews_exec.v0+json';\n",
       "var CLASS_NAME = 'output';\n",
       "\n",
       "/**\n",
       " * Render data to the DOM node\n",
       " */\n",
       "function render(props, node) {\n",
       "  var div = document.createElement(\"div\");\n",
       "  var script = document.createElement(\"script\");\n",
       "  node.appendChild(div);\n",
       "  node.appendChild(script);\n",
       "}\n",
       "\n",
       "/**\n",
       " * Handle when a new output is added\n",
       " */\n",
       "function handle_add_output(event, handle) {\n",
       "  var output_area = handle.output_area;\n",
       "  var output = handle.output;\n",
       "  if ((output.data == undefined) || (!output.data.hasOwnProperty(EXEC_MIME_TYPE))) {\n",
       "    return\n",
       "  }\n",
       "  var id = output.metadata[EXEC_MIME_TYPE][\"id\"];\n",
       "  var toinsert = output_area.element.find(\".\" + CLASS_NAME.split(' ')[0]);\n",
       "  if (id !== undefined) {\n",
       "    var nchildren = toinsert.length;\n",
       "    var html_node = toinsert[nchildren-1].children[0];\n",
       "    html_node.innerHTML = output.data[HTML_MIME_TYPE];\n",
       "    var scripts = [];\n",
       "    var nodelist = html_node.querySelectorAll(\"script\");\n",
       "    for (var i in nodelist) {\n",
       "      if (nodelist.hasOwnProperty(i)) {\n",
       "        scripts.push(nodelist[i])\n",
       "      }\n",
       "    }\n",
       "\n",
       "    scripts.forEach( function (oldScript) {\n",
       "      var newScript = document.createElement(\"script\");\n",
       "      var attrs = [];\n",
       "      var nodemap = oldScript.attributes;\n",
       "      for (var j in nodemap) {\n",
       "        if (nodemap.hasOwnProperty(j)) {\n",
       "          attrs.push(nodemap[j])\n",
       "        }\n",
       "      }\n",
       "      attrs.forEach(function(attr) { newScript.setAttribute(attr.name, attr.value) });\n",
       "      newScript.appendChild(document.createTextNode(oldScript.innerHTML));\n",
       "      oldScript.parentNode.replaceChild(newScript, oldScript);\n",
       "    });\n",
       "    if (JS_MIME_TYPE in output.data) {\n",
       "      toinsert[nchildren-1].children[1].textContent = output.data[JS_MIME_TYPE];\n",
       "    }\n",
       "    output_area._hv_plot_id = id;\n",
       "    if ((window.Bokeh !== undefined) && (id in Bokeh.index)) {\n",
       "      window.PyViz.plot_index[id] = Bokeh.index[id];\n",
       "    } else {\n",
       "      window.PyViz.plot_index[id] = null;\n",
       "    }\n",
       "  } else if (output.metadata[EXEC_MIME_TYPE][\"server_id\"] !== undefined) {\n",
       "    var bk_div = document.createElement(\"div\");\n",
       "    bk_div.innerHTML = output.data[HTML_MIME_TYPE];\n",
       "    var script_attrs = bk_div.children[0].attributes;\n",
       "    for (var i = 0; i < script_attrs.length; i++) {\n",
       "      toinsert[toinsert.length - 1].childNodes[1].setAttribute(script_attrs[i].name, script_attrs[i].value);\n",
       "    }\n",
       "    // store reference to server id on output_area\n",
       "    output_area._bokeh_server_id = output.metadata[EXEC_MIME_TYPE][\"server_id\"];\n",
       "  }\n",
       "}\n",
       "\n",
       "/**\n",
       " * Handle when an output is cleared or removed\n",
       " */\n",
       "function handle_clear_output(event, handle) {\n",
       "  var id = handle.cell.output_area._hv_plot_id;\n",
       "  var server_id = handle.cell.output_area._bokeh_server_id;\n",
       "  if (((id === undefined) || !(id in PyViz.plot_index)) && (server_id !== undefined)) { return; }\n",
       "  var comm = window.PyViz.comm_manager.get_client_comm(\"hv-extension-comm\", \"hv-extension-comm\", function () {});\n",
       "  if (server_id !== null) {\n",
       "    comm.send({event_type: 'server_delete', 'id': server_id});\n",
       "    return;\n",
       "  } else if (comm !== null) {\n",
       "    comm.send({event_type: 'delete', 'id': id});\n",
       "  }\n",
       "  delete PyViz.plot_index[id];\n",
       "  if ((window.Bokeh !== undefined) & (id in window.Bokeh.index)) {\n",
       "    var doc = window.Bokeh.index[id].model.document\n",
       "    doc.clear();\n",
       "    const i = window.Bokeh.documents.indexOf(doc);\n",
       "    if (i > -1) {\n",
       "      window.Bokeh.documents.splice(i, 1);\n",
       "    }\n",
       "  }\n",
       "}\n",
       "\n",
       "/**\n",
       " * Handle kernel restart event\n",
       " */\n",
       "function handle_kernel_cleanup(event, handle) {\n",
       "  delete PyViz.comms[\"hv-extension-comm\"];\n",
       "  window.PyViz.plot_index = {}\n",
       "}\n",
       "\n",
       "/**\n",
       " * Handle update_display_data messages\n",
       " */\n",
       "function handle_update_output(event, handle) {\n",
       "  handle_clear_output(event, {cell: {output_area: handle.output_area}})\n",
       "  handle_add_output(event, handle)\n",
       "}\n",
       "\n",
       "function register_renderer(events, OutputArea) {\n",
       "  function append_mime(data, metadata, element) {\n",
       "    // create a DOM node to render to\n",
       "    var toinsert = this.create_output_subarea(\n",
       "    metadata,\n",
       "    CLASS_NAME,\n",
       "    EXEC_MIME_TYPE\n",
       "    );\n",
       "    this.keyboard_manager.register_events(toinsert);\n",
       "    // Render to node\n",
       "    var props = {data: data, metadata: metadata[EXEC_MIME_TYPE]};\n",
       "    render(props, toinsert[0]);\n",
       "    element.append(toinsert);\n",
       "    return toinsert\n",
       "  }\n",
       "\n",
       "  events.on('output_added.OutputArea', handle_add_output);\n",
       "  events.on('output_updated.OutputArea', handle_update_output);\n",
       "  events.on('clear_output.CodeCell', handle_clear_output);\n",
       "  events.on('delete.Cell', handle_clear_output);\n",
       "  events.on('kernel_ready.Kernel', handle_kernel_cleanup);\n",
       "\n",
       "  OutputArea.prototype.register_mime_type(EXEC_MIME_TYPE, append_mime, {\n",
       "    safe: true,\n",
       "    index: 0\n",
       "  });\n",
       "}\n",
       "\n",
       "if (window.Jupyter !== undefined) {\n",
       "  try {\n",
       "    var events = require('base/js/events');\n",
       "    var OutputArea = require('notebook/js/outputarea').OutputArea;\n",
       "    if (OutputArea.prototype.mime_types().indexOf(EXEC_MIME_TYPE) == -1) {\n",
       "      register_renderer(events, OutputArea);\n",
       "    }\n",
       "  } catch(err) {\n",
       "  }\n",
       "}\n"
      ],
      "application/vnd.holoviews_load.v0+json": "\nif ((window.PyViz === undefined) || (window.PyViz instanceof HTMLElement)) {\n  window.PyViz = {comms: {}, comm_status:{}, kernels:{}, receivers: {}, plot_index: []}\n}\n\n\n    function JupyterCommManager() {\n    }\n\n    JupyterCommManager.prototype.register_target = function(plot_id, comm_id, msg_handler) {\n      if (window.comm_manager || ((window.Jupyter !== undefined) && (Jupyter.notebook.kernel != null))) {\n        var comm_manager = window.comm_manager || Jupyter.notebook.kernel.comm_manager;\n        comm_manager.register_target(comm_id, function(comm) {\n          comm.on_msg(msg_handler);\n        });\n      } else if ((plot_id in window.PyViz.kernels) && (window.PyViz.kernels[plot_id])) {\n        window.PyViz.kernels[plot_id].registerCommTarget(comm_id, function(comm) {\n          comm.onMsg = msg_handler;\n        });\n      } else if (typeof google != 'undefined' && google.colab.kernel != null) {\n        google.colab.kernel.comms.registerTarget(comm_id, (comm) => {\n          var messages = comm.messages[Symbol.asyncIterator]();\n          function processIteratorResult(result) {\n            var message = result.value;\n            console.log(message)\n            var content = {data: message.data, comm_id};\n            var buffers = []\n            for (var buffer of message.buffers || []) {\n              buffers.push(new DataView(buffer))\n            }\n            var metadata = message.metadata || {};\n            var msg = {content, buffers, metadata}\n            msg_handler(msg);\n            return messages.next().then(processIteratorResult);\n          }\n          return messages.next().then(processIteratorResult);\n        })\n      }\n    }\n\n    JupyterCommManager.prototype.get_client_comm = function(plot_id, comm_id, msg_handler) {\n      if (comm_id in window.PyViz.comms) {\n        return window.PyViz.comms[comm_id];\n      } else if (window.comm_manager || ((window.Jupyter !== undefined) && (Jupyter.notebook.kernel != null))) {\n        var comm_manager = window.comm_manager || Jupyter.notebook.kernel.comm_manager;\n        var comm = comm_manager.new_comm(comm_id, {}, {}, {}, comm_id);\n        if (msg_handler) {\n          comm.on_msg(msg_handler);\n        }\n      } else if ((plot_id in window.PyViz.kernels) && (window.PyViz.kernels[plot_id])) {\n        var comm = window.PyViz.kernels[plot_id].connectToComm(comm_id);\n        comm.open();\n        if (msg_handler) {\n          comm.onMsg = msg_handler;\n        }\n      } else if (typeof google != 'undefined' && google.colab.kernel != null) {\n        var comm_promise = google.colab.kernel.comms.open(comm_id)\n        comm_promise.then((comm) => {\n          window.PyViz.comms[comm_id] = comm;\n          if (msg_handler) {\n            var messages = comm.messages[Symbol.asyncIterator]();\n            function processIteratorResult(result) {\n              var message = result.value;\n              var content = {data: message.data};\n              var metadata = message.metadata || {comm_id};\n              var msg = {content, metadata}\n              msg_handler(msg);\n              return messages.next().then(processIteratorResult);\n            }\n            return messages.next().then(processIteratorResult);\n          }\n        }) \n        var sendClosure = (data, metadata, buffers, disposeOnDone) => {\n          return comm_promise.then((comm) => {\n            comm.send(data, metadata, buffers, disposeOnDone);\n          });\n        };\n        var comm = {\n          send: sendClosure\n        };\n      }\n      window.PyViz.comms[comm_id] = comm;\n      return comm;\n    }\n    window.PyViz.comm_manager = new JupyterCommManager();\n    \n\n\nvar JS_MIME_TYPE = 'application/javascript';\nvar HTML_MIME_TYPE = 'text/html';\nvar EXEC_MIME_TYPE = 'application/vnd.holoviews_exec.v0+json';\nvar CLASS_NAME = 'output';\n\n/**\n * Render data to the DOM node\n */\nfunction render(props, node) {\n  var div = document.createElement(\"div\");\n  var script = document.createElement(\"script\");\n  node.appendChild(div);\n  node.appendChild(script);\n}\n\n/**\n * Handle when a new output is added\n */\nfunction handle_add_output(event, handle) {\n  var output_area = handle.output_area;\n  var output = handle.output;\n  if ((output.data == undefined) || (!output.data.hasOwnProperty(EXEC_MIME_TYPE))) {\n    return\n  }\n  var id = output.metadata[EXEC_MIME_TYPE][\"id\"];\n  var toinsert = output_area.element.find(\".\" + CLASS_NAME.split(' ')[0]);\n  if (id !== undefined) {\n    var nchildren = toinsert.length;\n    var html_node = toinsert[nchildren-1].children[0];\n    html_node.innerHTML = output.data[HTML_MIME_TYPE];\n    var scripts = [];\n    var nodelist = html_node.querySelectorAll(\"script\");\n    for (var i in nodelist) {\n      if (nodelist.hasOwnProperty(i)) {\n        scripts.push(nodelist[i])\n      }\n    }\n\n    scripts.forEach( function (oldScript) {\n      var newScript = document.createElement(\"script\");\n      var attrs = [];\n      var nodemap = oldScript.attributes;\n      for (var j in nodemap) {\n        if (nodemap.hasOwnProperty(j)) {\n          attrs.push(nodemap[j])\n        }\n      }\n      attrs.forEach(function(attr) { newScript.setAttribute(attr.name, attr.value) });\n      newScript.appendChild(document.createTextNode(oldScript.innerHTML));\n      oldScript.parentNode.replaceChild(newScript, oldScript);\n    });\n    if (JS_MIME_TYPE in output.data) {\n      toinsert[nchildren-1].children[1].textContent = output.data[JS_MIME_TYPE];\n    }\n    output_area._hv_plot_id = id;\n    if ((window.Bokeh !== undefined) && (id in Bokeh.index)) {\n      window.PyViz.plot_index[id] = Bokeh.index[id];\n    } else {\n      window.PyViz.plot_index[id] = null;\n    }\n  } else if (output.metadata[EXEC_MIME_TYPE][\"server_id\"] !== undefined) {\n    var bk_div = document.createElement(\"div\");\n    bk_div.innerHTML = output.data[HTML_MIME_TYPE];\n    var script_attrs = bk_div.children[0].attributes;\n    for (var i = 0; i < script_attrs.length; i++) {\n      toinsert[toinsert.length - 1].childNodes[1].setAttribute(script_attrs[i].name, script_attrs[i].value);\n    }\n    // store reference to server id on output_area\n    output_area._bokeh_server_id = output.metadata[EXEC_MIME_TYPE][\"server_id\"];\n  }\n}\n\n/**\n * Handle when an output is cleared or removed\n */\nfunction handle_clear_output(event, handle) {\n  var id = handle.cell.output_area._hv_plot_id;\n  var server_id = handle.cell.output_area._bokeh_server_id;\n  if (((id === undefined) || !(id in PyViz.plot_index)) && (server_id !== undefined)) { return; }\n  var comm = window.PyViz.comm_manager.get_client_comm(\"hv-extension-comm\", \"hv-extension-comm\", function () {});\n  if (server_id !== null) {\n    comm.send({event_type: 'server_delete', 'id': server_id});\n    return;\n  } else if (comm !== null) {\n    comm.send({event_type: 'delete', 'id': id});\n  }\n  delete PyViz.plot_index[id];\n  if ((window.Bokeh !== undefined) & (id in window.Bokeh.index)) {\n    var doc = window.Bokeh.index[id].model.document\n    doc.clear();\n    const i = window.Bokeh.documents.indexOf(doc);\n    if (i > -1) {\n      window.Bokeh.documents.splice(i, 1);\n    }\n  }\n}\n\n/**\n * Handle kernel restart event\n */\nfunction handle_kernel_cleanup(event, handle) {\n  delete PyViz.comms[\"hv-extension-comm\"];\n  window.PyViz.plot_index = {}\n}\n\n/**\n * Handle update_display_data messages\n */\nfunction handle_update_output(event, handle) {\n  handle_clear_output(event, {cell: {output_area: handle.output_area}})\n  handle_add_output(event, handle)\n}\n\nfunction register_renderer(events, OutputArea) {\n  function append_mime(data, metadata, element) {\n    // create a DOM node to render to\n    var toinsert = this.create_output_subarea(\n    metadata,\n    CLASS_NAME,\n    EXEC_MIME_TYPE\n    );\n    this.keyboard_manager.register_events(toinsert);\n    // Render to node\n    var props = {data: data, metadata: metadata[EXEC_MIME_TYPE]};\n    render(props, toinsert[0]);\n    element.append(toinsert);\n    return toinsert\n  }\n\n  events.on('output_added.OutputArea', handle_add_output);\n  events.on('output_updated.OutputArea', handle_update_output);\n  events.on('clear_output.CodeCell', handle_clear_output);\n  events.on('delete.Cell', handle_clear_output);\n  events.on('kernel_ready.Kernel', handle_kernel_cleanup);\n\n  OutputArea.prototype.register_mime_type(EXEC_MIME_TYPE, append_mime, {\n    safe: true,\n    index: 0\n  });\n}\n\nif (window.Jupyter !== undefined) {\n  try {\n    var events = require('base/js/events');\n    var OutputArea = require('notebook/js/outputarea').OutputArea;\n    if (OutputArea.prototype.mime_types().indexOf(EXEC_MIME_TYPE) == -1) {\n      register_renderer(events, OutputArea);\n    }\n  } catch(err) {\n  }\n}\n"
     },
     "metadata": {},
     "output_type": "display_data"
    },
    {
     "data": {
      "text/html": [
       "<style>.bk-root, .bk-root .bk:before, .bk-root .bk:after {\n",
       "  font-family: var(--jp-ui-font-size1);\n",
       "  font-size: var(--jp-ui-font-size1);\n",
       "  color: var(--jp-ui-font-color1);\n",
       "}\n",
       "</style>"
      ]
     },
     "metadata": {},
     "output_type": "display_data"
    }
   ],
   "source": [
    "# BASE\n",
    "import numpy as np\n",
    "import pandas as pd\n",
    "import math\n",
    "\n",
    "# VISUALS\n",
    "import seaborn as sns\n",
    "import matplotlib.pyplot as plt\n",
    "import matplotlib.ticker as tck\n",
    "import panel as pn\n",
    "pn.extension(\"tabulator\")\n",
    "import plotly.express as px\n",
    "import statsmodels.api as sm\n",
    "\n",
    "# MODEL TUNING\n",
    "from sklearn.model_selection import KFold, cross_val_score, GridSearchCV\n",
    "\n",
    "# STATISTICS\n",
    "from scipy.stats import t, ttest_1samp, ttest_ind, chisquare, cramervonmises_2samp, ks_2samp, mannwhitneyu, kruskal\n",
    "\n",
    "import warnings\n",
    "warnings.filterwarnings(\"ignore\")"
   ]
  },
  {
   "cell_type": "code",
   "execution_count": 2,
   "id": "5faa17fe",
   "metadata": {},
   "outputs": [],
   "source": [
    "# Mean monthly earnings by sex, age and economic activity dataset 2010-2018 : https://ec.europa.eu/eurostat/databrowser/view/EARN_SES18_20__custom_2579604/default/bar?lang=en&bookmarkId=675835ab-602a-4720-bab9-0c760723e345\n",
    "df= pd.read_csv(\"Mean monthly earnings by sex, age and economic activity-all.csv\")\n",
    "# From World Bank data\n",
    "# GDP per capita-European Union : https://data.worldbank.org/indicator/NY.GDP.PCAP.CD?locations=EU\n",
    "df_gdp= pd.read_csv(\"GDP capita.csv\")"
   ]
  },
  {
   "cell_type": "markdown",
   "id": "cfe8d7f8",
   "metadata": {},
   "source": [
    "## Statistics"
   ]
  },
  {
   "cell_type": "code",
   "execution_count": 3,
   "id": "052263e9",
   "metadata": {},
   "outputs": [
    {
     "data": {
      "text/html": [
       "<div>\n",
       "<style scoped>\n",
       "    .dataframe tbody tr th:only-of-type {\n",
       "        vertical-align: middle;\n",
       "    }\n",
       "\n",
       "    .dataframe tbody tr th {\n",
       "        vertical-align: top;\n",
       "    }\n",
       "\n",
       "    .dataframe thead th {\n",
       "        text-align: right;\n",
       "    }\n",
       "</style>\n",
       "<table border=\"1\" class=\"dataframe\">\n",
       "  <thead>\n",
       "    <tr style=\"text-align: right;\">\n",
       "      <th></th>\n",
       "      <th>DATAFLOW</th>\n",
       "      <th>LAST UPDATE</th>\n",
       "      <th>freq</th>\n",
       "      <th>age</th>\n",
       "      <th>indic_se</th>\n",
       "      <th>sex</th>\n",
       "      <th>sizeclas</th>\n",
       "      <th>nace_r2</th>\n",
       "      <th>unit</th>\n",
       "      <th>geo</th>\n",
       "      <th>TIME_PERIOD</th>\n",
       "      <th>OBS_VALUE</th>\n",
       "      <th>OBS_FLAG</th>\n",
       "    </tr>\n",
       "  </thead>\n",
       "  <tbody>\n",
       "    <tr>\n",
       "      <th>60</th>\n",
       "      <td>ESTAT:EARN_SES14_20(1.0)</td>\n",
       "      <td>13/10/2020 11:00</td>\n",
       "      <td>A</td>\n",
       "      <td>TOTAL</td>\n",
       "      <td>ERN</td>\n",
       "      <td>T</td>\n",
       "      <td>GE10</td>\n",
       "      <td>O</td>\n",
       "      <td>EUR</td>\n",
       "      <td>CH</td>\n",
       "      <td>2014</td>\n",
       "      <td>6990.0</td>\n",
       "      <td>NaN</td>\n",
       "    </tr>\n",
       "    <tr>\n",
       "      <th>133</th>\n",
       "      <td>ESTAT:EARN_SES10_20(1.0)</td>\n",
       "      <td>30/01/2017 23:00</td>\n",
       "      <td>A</td>\n",
       "      <td>TOTAL</td>\n",
       "      <td>ERN</td>\n",
       "      <td>T</td>\n",
       "      <td>GE10</td>\n",
       "      <td>O</td>\n",
       "      <td>EUR</td>\n",
       "      <td>HR</td>\n",
       "      <td>2010</td>\n",
       "      <td>1249.0</td>\n",
       "      <td>NaN</td>\n",
       "    </tr>\n",
       "    <tr>\n",
       "      <th>179</th>\n",
       "      <td>ESTAT:EARN_SES10_20(1.0)</td>\n",
       "      <td>30/01/2017 23:00</td>\n",
       "      <td>A</td>\n",
       "      <td>TOTAL</td>\n",
       "      <td>ERN</td>\n",
       "      <td>T</td>\n",
       "      <td>GE10</td>\n",
       "      <td>P</td>\n",
       "      <td>EUR</td>\n",
       "      <td>TR</td>\n",
       "      <td>2010</td>\n",
       "      <td>NaN</td>\n",
       "      <td>d</td>\n",
       "    </tr>\n",
       "    <tr>\n",
       "      <th>168</th>\n",
       "      <td>ESTAT:EARN_SES10_20(1.0)</td>\n",
       "      <td>30/01/2017 23:00</td>\n",
       "      <td>A</td>\n",
       "      <td>TOTAL</td>\n",
       "      <td>ERN</td>\n",
       "      <td>T</td>\n",
       "      <td>GE10</td>\n",
       "      <td>P</td>\n",
       "      <td>EUR</td>\n",
       "      <td>LV</td>\n",
       "      <td>2010</td>\n",
       "      <td>625.0</td>\n",
       "      <td>NaN</td>\n",
       "    </tr>\n",
       "    <tr>\n",
       "      <th>2</th>\n",
       "      <td>ESTAT:EARN_SES18_20(1.0)</td>\n",
       "      <td>04/08/2021 23:00</td>\n",
       "      <td>A</td>\n",
       "      <td>TOTAL</td>\n",
       "      <td>ERN</td>\n",
       "      <td>T</td>\n",
       "      <td>GE10</td>\n",
       "      <td>O</td>\n",
       "      <td>EUR</td>\n",
       "      <td>CY</td>\n",
       "      <td>2018</td>\n",
       "      <td>2202.0</td>\n",
       "      <td>NaN</td>\n",
       "    </tr>\n",
       "  </tbody>\n",
       "</table>\n",
       "</div>"
      ],
      "text/plain": [
       "                     DATAFLOW       LAST UPDATE freq    age indic_se sex  \\\n",
       "60   ESTAT:EARN_SES14_20(1.0)  13/10/2020 11:00    A  TOTAL      ERN   T   \n",
       "133  ESTAT:EARN_SES10_20(1.0)  30/01/2017 23:00    A  TOTAL      ERN   T   \n",
       "179  ESTAT:EARN_SES10_20(1.0)  30/01/2017 23:00    A  TOTAL      ERN   T   \n",
       "168  ESTAT:EARN_SES10_20(1.0)  30/01/2017 23:00    A  TOTAL      ERN   T   \n",
       "2    ESTAT:EARN_SES18_20(1.0)  04/08/2021 23:00    A  TOTAL      ERN   T   \n",
       "\n",
       "    sizeclas nace_r2 unit geo  TIME_PERIOD  OBS_VALUE OBS_FLAG  \n",
       "60      GE10       O  EUR  CH         2014     6990.0      NaN  \n",
       "133     GE10       O  EUR  HR         2010     1249.0      NaN  \n",
       "179     GE10       P  EUR  TR         2010        NaN        d  \n",
       "168     GE10       P  EUR  LV         2010      625.0      NaN  \n",
       "2       GE10       O  EUR  CY         2018     2202.0      NaN  "
      ]
     },
     "execution_count": 3,
     "metadata": {},
     "output_type": "execute_result"
    }
   ],
   "source": [
    "df.sample(5)"
   ]
  },
  {
   "cell_type": "code",
   "execution_count": 4,
   "id": "365550bd",
   "metadata": {},
   "outputs": [
    {
     "data": {
      "text/html": [
       "<div>\n",
       "<style scoped>\n",
       "    .dataframe tbody tr th:only-of-type {\n",
       "        vertical-align: middle;\n",
       "    }\n",
       "\n",
       "    .dataframe tbody tr th {\n",
       "        vertical-align: top;\n",
       "    }\n",
       "\n",
       "    .dataframe thead th {\n",
       "        text-align: right;\n",
       "    }\n",
       "</style>\n",
       "<table border=\"1\" class=\"dataframe\">\n",
       "  <thead>\n",
       "    <tr style=\"text-align: right;\">\n",
       "      <th></th>\n",
       "      <th>DATAFLOW</th>\n",
       "      <th>LAST UPDATE</th>\n",
       "      <th>freq</th>\n",
       "      <th>unit</th>\n",
       "      <th>na_item</th>\n",
       "      <th>geo</th>\n",
       "      <th>TIME_PERIOD</th>\n",
       "      <th>OBS_VALUE</th>\n",
       "      <th>OBS_FLAG</th>\n",
       "    </tr>\n",
       "  </thead>\n",
       "  <tbody>\n",
       "    <tr>\n",
       "      <th>404</th>\n",
       "      <td>ESTAT:SDG_08_10(1.0)</td>\n",
       "      <td>31/07/23 23:00:00</td>\n",
       "      <td>A</td>\n",
       "      <td>CLV10_EUR_HAB</td>\n",
       "      <td>B1GQ</td>\n",
       "      <td>IE</td>\n",
       "      <td>2015</td>\n",
       "      <td>49420.0</td>\n",
       "      <td>NaN</td>\n",
       "    </tr>\n",
       "    <tr>\n",
       "      <th>832</th>\n",
       "      <td>ESTAT:SDG_08_10(1.0)</td>\n",
       "      <td>31/07/23 23:00:00</td>\n",
       "      <td>A</td>\n",
       "      <td>CLV10_EUR_HAB</td>\n",
       "      <td>B1GQ</td>\n",
       "      <td>UK</td>\n",
       "      <td>2016</td>\n",
       "      <td>32060.0</td>\n",
       "      <td>NaN</td>\n",
       "    </tr>\n",
       "    <tr>\n",
       "      <th>351</th>\n",
       "      <td>ESTAT:SDG_08_10(1.0)</td>\n",
       "      <td>31/07/23 23:00:00</td>\n",
       "      <td>A</td>\n",
       "      <td>CLV10_EUR_HAB</td>\n",
       "      <td>B1GQ</td>\n",
       "      <td>HR</td>\n",
       "      <td>2008</td>\n",
       "      <td>11580.0</td>\n",
       "      <td>NaN</td>\n",
       "    </tr>\n",
       "    <tr>\n",
       "      <th>809</th>\n",
       "      <td>ESTAT:SDG_08_10(1.0)</td>\n",
       "      <td>31/07/23 23:00:00</td>\n",
       "      <td>A</td>\n",
       "      <td>CLV10_EUR_HAB</td>\n",
       "      <td>B1GQ</td>\n",
       "      <td>TR</td>\n",
       "      <td>2015</td>\n",
       "      <td>10520.0</td>\n",
       "      <td>NaN</td>\n",
       "    </tr>\n",
       "    <tr>\n",
       "      <th>588</th>\n",
       "      <td>ESTAT:SDG_08_10(1.0)</td>\n",
       "      <td>31/07/23 23:00:00</td>\n",
       "      <td>A</td>\n",
       "      <td>CLV10_EUR_HAB</td>\n",
       "      <td>B1GQ</td>\n",
       "      <td>NL</td>\n",
       "      <td>2001</td>\n",
       "      <td>35610.0</td>\n",
       "      <td>NaN</td>\n",
       "    </tr>\n",
       "  </tbody>\n",
       "</table>\n",
       "</div>"
      ],
      "text/plain": [
       "                 DATAFLOW        LAST UPDATE freq           unit na_item geo  \\\n",
       "404  ESTAT:SDG_08_10(1.0)  31/07/23 23:00:00    A  CLV10_EUR_HAB    B1GQ  IE   \n",
       "832  ESTAT:SDG_08_10(1.0)  31/07/23 23:00:00    A  CLV10_EUR_HAB    B1GQ  UK   \n",
       "351  ESTAT:SDG_08_10(1.0)  31/07/23 23:00:00    A  CLV10_EUR_HAB    B1GQ  HR   \n",
       "809  ESTAT:SDG_08_10(1.0)  31/07/23 23:00:00    A  CLV10_EUR_HAB    B1GQ  TR   \n",
       "588  ESTAT:SDG_08_10(1.0)  31/07/23 23:00:00    A  CLV10_EUR_HAB    B1GQ  NL   \n",
       "\n",
       "     TIME_PERIOD  OBS_VALUE OBS_FLAG  \n",
       "404         2015    49420.0      NaN  \n",
       "832         2016    32060.0      NaN  \n",
       "351         2008    11580.0      NaN  \n",
       "809         2015    10520.0      NaN  \n",
       "588         2001    35610.0      NaN  "
      ]
     },
     "execution_count": 4,
     "metadata": {},
     "output_type": "execute_result"
    }
   ],
   "source": [
    "df_gdp.sample(5)"
   ]
  },
  {
   "cell_type": "code",
   "execution_count": 47,
   "id": "77f91036",
   "metadata": {},
   "outputs": [
    {
     "name": "stdout",
     "output_type": "stream",
     "text": [
      "Mean monthly earnings by sex, age and economic activity Dataset shape: (181, 13)\n",
      "GDP Dataset shape: (836, 9)\n"
     ]
    }
   ],
   "source": [
    "print(\"Mean monthly earnings by sex, age and economic activity Dataset shape:\", df.shape)\n",
    "print(\"GDP Dataset shape:\", df_gdp.shape)"
   ]
  },
  {
   "cell_type": "code",
   "execution_count": 46,
   "id": "f5fd97a2",
   "metadata": {},
   "outputs": [
    {
     "name": "stdout",
     "output_type": "stream",
     "text": [
      "Mean monthly earnings by sex, age and economic activity Dataset dtypes:\n",
      "DATAFLOW        object\n",
      "LAST UPDATE     object\n",
      "freq            object\n",
      "age             object\n",
      "indic_se        object\n",
      "sex             object\n",
      "sizeclas        object\n",
      "nace_r2         object\n",
      "unit            object\n",
      "geo             object\n",
      "TIME_PERIOD      int64\n",
      "OBS_VALUE      float64\n",
      "OBS_FLAG        object\n",
      "dtype: object\n",
      "=============================================\n",
      "GDP Dataset dtypes:\n",
      "DATAFLOW        object\n",
      "LAST UPDATE     object\n",
      "freq            object\n",
      "unit            object\n",
      "na_item         object\n",
      "geo             object\n",
      "TIME_PERIOD      int64\n",
      "OBS_VALUE      float64\n",
      "OBS_FLAG        object\n",
      "dtype: object\n"
     ]
    }
   ],
   "source": [
    "print(\"Mean monthly earnings by sex, age and economic activity Dataset dtypes:\")\n",
    "print(df.dtypes)\n",
    "print(\"=============================================\")\n",
    "print(\"GDP Dataset dtypes:\")\n",
    "print(df_gdp.dtypes)"
   ]
  },
  {
   "cell_type": "code",
   "execution_count": 7,
   "id": "78123e95",
   "metadata": {},
   "outputs": [
    {
     "name": "stdout",
     "output_type": "stream",
     "text": [
      "nace_r2 values in Mean monthly earnings by sex Dataset: ['O' 'P']\n",
      "geo values in Mean monthly earnings by sex Dataset: ['BG' 'CH' 'CY' 'CZ' 'DE' 'DK' 'EE' 'ES' 'EU27_2020' 'FI' 'FR' 'HR' 'HU'\n",
      " 'IE' 'IS' 'IT' 'LT' 'LU' 'LV' 'MK' 'MT' 'NL' 'NO' 'PL' 'RO' 'RS' 'SE'\n",
      " 'SI' 'SK' 'UK' 'EU28' 'AT' 'BE' 'ME' 'PT' 'TR' 'EL']\n",
      "OBS_VALUE values in Mean monthly earnings by sex Dataset: [ 603. 7976. 2202. 1345. 3619. 4855. 1554. 2247. 2696. 3649. 2518. 1282.\n",
      "  869. 4138. 5863. 2807. 1121. 6857. 1197.  702. 2132. 3819. 5161. 1155.\n",
      " 1291.  719. 3723. 2034. 1131. 3397.  579. 6587. 2347. 1250. 3440. 4233.\n",
      " 1364. 2224. 3249. 2591. 1240.  903. 3990. 4898. 2602.  980. 6001. 1080.\n",
      "  637. 2199. 3325. 4568. 1035. 1242.  634. 3248. 1856. 1084. 3164.  517.\n",
      " 6990. 2070.  946. 3327. 4474. 1252. 2104. 2586. 3477. 2383. 1227.  705.\n",
      " 4279. 3567. 2612.  874.  924.  688. 1834. 3431. 1136.  635. 3705. 1728.\n",
      "  923. 3450.   nan  446. 6152. 2251.  897. 3118. 3967. 1027. 2084. 2593.\n",
      " 3132. 2479. 1150.  732. 4093. 2546.  744.  758.  599. 1803. 3051.  973.\n",
      "  550. 3305. 1708.  882. 3117.  407. 5856. 2455. 1045. 3098. 4356.  979.\n",
      " 1694. 2105. 2411. 3120. 2187. 1249.  745. 3959. 2580.  749.  783.  642.\n",
      " 3286.  947.  412. 3280. 1764.  776. 3197.  365. 5334. 2553.  970. 2978.\n",
      " 3880.  812. 1924. 2086. 2424. 2878. 2343. 1159. 3679.  617.  625.  563.\n",
      " 2962.  826. 2845. 1745.  734. 2884.]\n"
     ]
    }
   ],
   "source": [
    "print('nace_r2 values in Mean monthly earnings by sex Dataset:', df['nace_r2'].unique())\n",
    "print('geo values in Mean monthly earnings by sex Dataset:', df['geo'].unique())\n",
    "print('OBS_VALUE values in Mean monthly earnings by sex Dataset:', df['OBS_VALUE'].unique())\n"
   ]
  },
  {
   "cell_type": "code",
   "execution_count": 8,
   "id": "dbc2ed4c",
   "metadata": {},
   "outputs": [
    {
     "data": {
      "text/html": [
       "<div>\n",
       "<style scoped>\n",
       "    .dataframe tbody tr th:only-of-type {\n",
       "        vertical-align: middle;\n",
       "    }\n",
       "\n",
       "    .dataframe tbody tr th {\n",
       "        vertical-align: top;\n",
       "    }\n",
       "\n",
       "    .dataframe thead th {\n",
       "        text-align: right;\n",
       "    }\n",
       "</style>\n",
       "<table border=\"1\" class=\"dataframe\">\n",
       "  <thead>\n",
       "    <tr style=\"text-align: right;\">\n",
       "      <th></th>\n",
       "      <th>nace_r2</th>\n",
       "      <th>geo</th>\n",
       "      <th>OBS_VALUE</th>\n",
       "      <th>TIME_PERIOD</th>\n",
       "    </tr>\n",
       "  </thead>\n",
       "  <tbody>\n",
       "    <tr>\n",
       "      <th>169</th>\n",
       "      <td>P</td>\n",
       "      <td>MK</td>\n",
       "      <td>563.0</td>\n",
       "      <td>2010</td>\n",
       "    </tr>\n",
       "    <tr>\n",
       "      <th>180</th>\n",
       "      <td>P</td>\n",
       "      <td>UK</td>\n",
       "      <td>2884.0</td>\n",
       "      <td>2010</td>\n",
       "    </tr>\n",
       "    <tr>\n",
       "      <th>112</th>\n",
       "      <td>P</td>\n",
       "      <td>PL</td>\n",
       "      <td>973.0</td>\n",
       "      <td>2014</td>\n",
       "    </tr>\n",
       "    <tr>\n",
       "      <th>20</th>\n",
       "      <td>O</td>\n",
       "      <td>MT</td>\n",
       "      <td>2132.0</td>\n",
       "      <td>2018</td>\n",
       "    </tr>\n",
       "    <tr>\n",
       "      <th>119</th>\n",
       "      <td>P</td>\n",
       "      <td>TR</td>\n",
       "      <td>NaN</td>\n",
       "      <td>2014</td>\n",
       "    </tr>\n",
       "  </tbody>\n",
       "</table>\n",
       "</div>"
      ],
      "text/plain": [
       "    nace_r2 geo  OBS_VALUE  TIME_PERIOD\n",
       "169       P  MK      563.0         2010\n",
       "180       P  UK     2884.0         2010\n",
       "112       P  PL      973.0         2014\n",
       "20        O  MT     2132.0         2018\n",
       "119       P  TR        NaN         2014"
      ]
     },
     "execution_count": 8,
     "metadata": {},
     "output_type": "execute_result"
    }
   ],
   "source": [
    "# Cleaning unnecessary columns from Mean monthly earnings Dataset\n",
    "df_earn = df[['nace_r2', 'geo', 'OBS_VALUE','TIME_PERIOD']]\n",
    "df_earn.sample(5)"
   ]
  },
  {
   "cell_type": "code",
   "execution_count": 9,
   "id": "41d9cd67",
   "metadata": {},
   "outputs": [
    {
     "data": {
      "text/html": [
       "<div>\n",
       "<style scoped>\n",
       "    .dataframe tbody tr th:only-of-type {\n",
       "        vertical-align: middle;\n",
       "    }\n",
       "\n",
       "    .dataframe tbody tr th {\n",
       "        vertical-align: top;\n",
       "    }\n",
       "\n",
       "    .dataframe thead th {\n",
       "        text-align: right;\n",
       "    }\n",
       "</style>\n",
       "<table border=\"1\" class=\"dataframe\">\n",
       "  <thead>\n",
       "    <tr style=\"text-align: right;\">\n",
       "      <th></th>\n",
       "      <th>geo</th>\n",
       "      <th>TIME_PERIOD</th>\n",
       "      <th>OBS_VALUE</th>\n",
       "    </tr>\n",
       "  </thead>\n",
       "  <tbody>\n",
       "    <tr>\n",
       "      <th>123</th>\n",
       "      <td>CY</td>\n",
       "      <td>2010</td>\n",
       "      <td>23460.0</td>\n",
       "    </tr>\n",
       "    <tr>\n",
       "      <th>645</th>\n",
       "      <td>PL</td>\n",
       "      <td>2012</td>\n",
       "      <td>9940.0</td>\n",
       "    </tr>\n",
       "    <tr>\n",
       "      <th>427</th>\n",
       "      <td>IS</td>\n",
       "      <td>2015</td>\n",
       "      <td>35870.0</td>\n",
       "    </tr>\n",
       "    <tr>\n",
       "      <th>772</th>\n",
       "      <td>SK</td>\n",
       "      <td>2001</td>\n",
       "      <td>8060.0</td>\n",
       "    </tr>\n",
       "    <tr>\n",
       "      <th>613</th>\n",
       "      <td>NO</td>\n",
       "      <td>2003</td>\n",
       "      <td>63750.0</td>\n",
       "    </tr>\n",
       "  </tbody>\n",
       "</table>\n",
       "</div>"
      ],
      "text/plain": [
       "    geo  TIME_PERIOD  OBS_VALUE\n",
       "123  CY         2010    23460.0\n",
       "645  PL         2012     9940.0\n",
       "427  IS         2015    35870.0\n",
       "772  SK         2001     8060.0\n",
       "613  NO         2003    63750.0"
      ]
     },
     "execution_count": 9,
     "metadata": {},
     "output_type": "execute_result"
    }
   ],
   "source": [
    "# Cleaning unnecessary columns from gdp Dataset\n",
    "df_gdp1 = df_gdp[['geo', 'TIME_PERIOD', 'OBS_VALUE']]\n",
    "df_gdp1.sample(5)"
   ]
  },
  {
   "cell_type": "code",
   "execution_count": 10,
   "id": "b4a41d1d",
   "metadata": {},
   "outputs": [],
   "source": [
    "df_earn['nace_r2'] = df_earn['nace_r2'].str.replace('O', 'Public')\n",
    "df_earn['nace_r2'] = df_earn['nace_r2'].str.replace('P','Public other')\n"
   ]
  },
  {
   "cell_type": "code",
   "execution_count": 11,
   "id": "22002dc1",
   "metadata": {},
   "outputs": [
    {
     "data": {
      "text/html": [
       "<div>\n",
       "<style scoped>\n",
       "    .dataframe tbody tr th:only-of-type {\n",
       "        vertical-align: middle;\n",
       "    }\n",
       "\n",
       "    .dataframe tbody tr th {\n",
       "        vertical-align: top;\n",
       "    }\n",
       "\n",
       "    .dataframe thead th {\n",
       "        text-align: right;\n",
       "    }\n",
       "</style>\n",
       "<table border=\"1\" class=\"dataframe\">\n",
       "  <thead>\n",
       "    <tr style=\"text-align: right;\">\n",
       "      <th></th>\n",
       "      <th>nace_r2</th>\n",
       "      <th>geo</th>\n",
       "      <th>OBS_VALUE</th>\n",
       "      <th>TIME_PERIOD</th>\n",
       "    </tr>\n",
       "  </thead>\n",
       "  <tbody>\n",
       "    <tr>\n",
       "      <th>105</th>\n",
       "      <td>Public other</td>\n",
       "      <td>LU</td>\n",
       "      <td>NaN</td>\n",
       "      <td>2014</td>\n",
       "    </tr>\n",
       "    <tr>\n",
       "      <th>22</th>\n",
       "      <td>Public otherublic</td>\n",
       "      <td>NO</td>\n",
       "      <td>5161.0</td>\n",
       "      <td>2018</td>\n",
       "    </tr>\n",
       "    <tr>\n",
       "      <th>42</th>\n",
       "      <td>Public other</td>\n",
       "      <td>IE</td>\n",
       "      <td>3990.0</td>\n",
       "      <td>2018</td>\n",
       "    </tr>\n",
       "    <tr>\n",
       "      <th>93</th>\n",
       "      <td>Public other</td>\n",
       "      <td>DK</td>\n",
       "      <td>3967.0</td>\n",
       "      <td>2014</td>\n",
       "    </tr>\n",
       "    <tr>\n",
       "      <th>151</th>\n",
       "      <td>Public other</td>\n",
       "      <td>CY</td>\n",
       "      <td>2553.0</td>\n",
       "      <td>2010</td>\n",
       "    </tr>\n",
       "  </tbody>\n",
       "</table>\n",
       "</div>"
      ],
      "text/plain": [
       "               nace_r2 geo  OBS_VALUE  TIME_PERIOD\n",
       "105       Public other  LU        NaN         2014\n",
       "22   Public otherublic  NO     5161.0         2018\n",
       "42        Public other  IE     3990.0         2018\n",
       "93        Public other  DK     3967.0         2014\n",
       "151       Public other  CY     2553.0         2010"
      ]
     },
     "execution_count": 11,
     "metadata": {},
     "output_type": "execute_result"
    }
   ],
   "source": [
    "df_earn.sample(5)"
   ]
  },
  {
   "cell_type": "code",
   "execution_count": 12,
   "id": "3fadcaa8",
   "metadata": {},
   "outputs": [
    {
     "data": {
      "text/html": [
       "<div>\n",
       "<style scoped>\n",
       "    .dataframe tbody tr th:only-of-type {\n",
       "        vertical-align: middle;\n",
       "    }\n",
       "\n",
       "    .dataframe tbody tr th {\n",
       "        vertical-align: top;\n",
       "    }\n",
       "\n",
       "    .dataframe thead th {\n",
       "        text-align: right;\n",
       "    }\n",
       "</style>\n",
       "<table border=\"1\" class=\"dataframe\">\n",
       "  <thead>\n",
       "    <tr style=\"text-align: right;\">\n",
       "      <th></th>\n",
       "      <th>geo</th>\n",
       "      <th>TIME_PERIOD</th>\n",
       "      <th>Public otherublic</th>\n",
       "      <th>Public other</th>\n",
       "    </tr>\n",
       "  </thead>\n",
       "  <tbody>\n",
       "    <tr>\n",
       "      <th>36</th>\n",
       "      <td>FR</td>\n",
       "      <td>2014</td>\n",
       "      <td>2383.0</td>\n",
       "      <td>2479.0</td>\n",
       "    </tr>\n",
       "    <tr>\n",
       "      <th>72</th>\n",
       "      <td>NO</td>\n",
       "      <td>2010</td>\n",
       "      <td>0.0</td>\n",
       "      <td>0.0</td>\n",
       "    </tr>\n",
       "    <tr>\n",
       "      <th>29</th>\n",
       "      <td>EU27_2020</td>\n",
       "      <td>2018</td>\n",
       "      <td>2696.0</td>\n",
       "      <td>0.0</td>\n",
       "    </tr>\n",
       "    <tr>\n",
       "      <th>23</th>\n",
       "      <td>EE</td>\n",
       "      <td>2014</td>\n",
       "      <td>1252.0</td>\n",
       "      <td>1027.0</td>\n",
       "    </tr>\n",
       "    <tr>\n",
       "      <th>4</th>\n",
       "      <td>BG</td>\n",
       "      <td>2010</td>\n",
       "      <td>407.0</td>\n",
       "      <td>365.0</td>\n",
       "    </tr>\n",
       "  </tbody>\n",
       "</table>\n",
       "</div>"
      ],
      "text/plain": [
       "          geo  TIME_PERIOD  Public otherublic  Public other\n",
       "36         FR         2014             2383.0        2479.0\n",
       "72         NO         2010                0.0           0.0\n",
       "29  EU27_2020         2018             2696.0           0.0\n",
       "23         EE         2014             1252.0        1027.0\n",
       "4          BG         2010              407.0         365.0"
      ]
     },
     "execution_count": 12,
     "metadata": {},
     "output_type": "execute_result"
    }
   ],
   "source": [
    "# Adding unique Elements as columns\n",
    "for nace_r2 in df_earn['nace_r2'].unique():\n",
    "  df_earn[nace_r2] = df_earn[df_earn['nace_r2'] == nace_r2]['OBS_VALUE'].fillna(0)\n",
    "# Drop Element and Value columns, since they are already moved into individual columns\n",
    "df_earn = df_earn.drop(['nace_r2', 'OBS_VALUE'], axis=1)\n",
    "# Aggregate multiple rows per Area and Year to single row\n",
    "df_earn = df_earn.groupby(by=['geo', 'TIME_PERIOD']).aggregate('sum')\n",
    "# Move Area and Year as columns instead of index of the DataFrame\n",
    "df_earn = df_earn.reset_index()\n",
    "\n",
    "df_earn.sample(5)"
   ]
  },
  {
   "cell_type": "code",
   "execution_count": 13,
   "id": "016e62e0",
   "metadata": {},
   "outputs": [
    {
     "name": "stdout",
     "output_type": "stream",
     "text": [
      "Earn Dataset number of nan values: 0\n",
      "==========================================\n",
      "Earn Dataset info:\n",
      "<class 'pandas.core.frame.DataFrame'>\n",
      "RangeIndex: 99 entries, 0 to 98\n",
      "Data columns (total 4 columns):\n",
      " #   Column             Non-Null Count  Dtype  \n",
      "---  ------             --------------  -----  \n",
      " 0   geo                99 non-null     object \n",
      " 1   TIME_PERIOD        99 non-null     int64  \n",
      " 2   Public otherublic  99 non-null     float64\n",
      " 3   Public other       99 non-null     float64\n",
      "dtypes: float64(2), int64(1), object(1)\n",
      "memory usage: 3.2+ KB\n",
      "None\n"
     ]
    }
   ],
   "source": [
    "print(\"Earn Dataset number of nan values:\", df_earn.isna().sum().sum())\n",
    "print('==========================================')\n",
    "print(\"Earn Dataset info:\")\n",
    "print(df_earn.info())"
   ]
  },
  {
   "cell_type": "code",
   "execution_count": 14,
   "id": "bbcdb7f4",
   "metadata": {},
   "outputs": [
    {
     "name": "stdout",
     "output_type": "stream",
     "text": [
      "Earn Dataset describe:\n"
     ]
    },
    {
     "data": {
      "text/html": [
       "<div>\n",
       "<style scoped>\n",
       "    .dataframe tbody tr th:only-of-type {\n",
       "        vertical-align: middle;\n",
       "    }\n",
       "\n",
       "    .dataframe tbody tr th {\n",
       "        vertical-align: top;\n",
       "    }\n",
       "\n",
       "    .dataframe thead th {\n",
       "        text-align: right;\n",
       "    }\n",
       "</style>\n",
       "<table border=\"1\" class=\"dataframe\">\n",
       "  <thead>\n",
       "    <tr style=\"text-align: right;\">\n",
       "      <th></th>\n",
       "      <th>TIME_PERIOD</th>\n",
       "      <th>Public otherublic</th>\n",
       "      <th>Public other</th>\n",
       "    </tr>\n",
       "  </thead>\n",
       "  <tbody>\n",
       "    <tr>\n",
       "      <th>count</th>\n",
       "      <td>99.000000</td>\n",
       "      <td>99.000000</td>\n",
       "      <td>99.000000</td>\n",
       "    </tr>\n",
       "    <tr>\n",
       "      <th>mean</th>\n",
       "      <td>2013.838384</td>\n",
       "      <td>2005.939394</td>\n",
       "      <td>1767.777778</td>\n",
       "    </tr>\n",
       "    <tr>\n",
       "      <th>std</th>\n",
       "      <td>3.228404</td>\n",
       "      <td>1752.060168</td>\n",
       "      <td>1579.082254</td>\n",
       "    </tr>\n",
       "    <tr>\n",
       "      <th>min</th>\n",
       "      <td>2010.000000</td>\n",
       "      <td>0.000000</td>\n",
       "      <td>0.000000</td>\n",
       "    </tr>\n",
       "    <tr>\n",
       "      <th>25%</th>\n",
       "      <td>2010.000000</td>\n",
       "      <td>712.000000</td>\n",
       "      <td>589.000000</td>\n",
       "    </tr>\n",
       "    <tr>\n",
       "      <th>50%</th>\n",
       "      <td>2014.000000</td>\n",
       "      <td>1554.000000</td>\n",
       "      <td>1240.000000</td>\n",
       "    </tr>\n",
       "    <tr>\n",
       "      <th>75%</th>\n",
       "      <td>2018.000000</td>\n",
       "      <td>3238.500000</td>\n",
       "      <td>2881.000000</td>\n",
       "    </tr>\n",
       "    <tr>\n",
       "      <th>max</th>\n",
       "      <td>2018.000000</td>\n",
       "      <td>7976.000000</td>\n",
       "      <td>6587.000000</td>\n",
       "    </tr>\n",
       "  </tbody>\n",
       "</table>\n",
       "</div>"
      ],
      "text/plain": [
       "       TIME_PERIOD  Public otherublic  Public other\n",
       "count    99.000000          99.000000     99.000000\n",
       "mean   2013.838384        2005.939394   1767.777778\n",
       "std       3.228404        1752.060168   1579.082254\n",
       "min    2010.000000           0.000000      0.000000\n",
       "25%    2010.000000         712.000000    589.000000\n",
       "50%    2014.000000        1554.000000   1240.000000\n",
       "75%    2018.000000        3238.500000   2881.000000\n",
       "max    2018.000000        7976.000000   6587.000000"
      ]
     },
     "execution_count": 14,
     "metadata": {},
     "output_type": "execute_result"
    }
   ],
   "source": [
    "print(\"Earn Dataset describe:\")\n",
    "df_earn.describe()"
   ]
  },
  {
   "cell_type": "code",
   "execution_count": 15,
   "id": "31ec864d",
   "metadata": {},
   "outputs": [
    {
     "data": {
      "text/html": [
       "<div>\n",
       "<style scoped>\n",
       "    .dataframe tbody tr th:only-of-type {\n",
       "        vertical-align: middle;\n",
       "    }\n",
       "\n",
       "    .dataframe tbody tr th {\n",
       "        vertical-align: top;\n",
       "    }\n",
       "\n",
       "    .dataframe thead th {\n",
       "        text-align: right;\n",
       "    }\n",
       "</style>\n",
       "<table border=\"1\" class=\"dataframe\">\n",
       "  <thead>\n",
       "    <tr style=\"text-align: right;\">\n",
       "      <th></th>\n",
       "      <th>geo</th>\n",
       "      <th>TIME_PERIOD</th>\n",
       "      <th>OBS_VALUE</th>\n",
       "    </tr>\n",
       "  </thead>\n",
       "  <tbody>\n",
       "    <tr>\n",
       "      <th>365</th>\n",
       "      <td>HR</td>\n",
       "      <td>2022</td>\n",
       "      <td>14540.0</td>\n",
       "    </tr>\n",
       "    <tr>\n",
       "      <th>243</th>\n",
       "      <td>EL</td>\n",
       "      <td>2015</td>\n",
       "      <td>16900.0</td>\n",
       "    </tr>\n",
       "    <tr>\n",
       "      <th>214</th>\n",
       "      <td>EE</td>\n",
       "      <td>2009</td>\n",
       "      <td>10770.0</td>\n",
       "    </tr>\n",
       "    <tr>\n",
       "      <th>586</th>\n",
       "      <td>MT</td>\n",
       "      <td>2022</td>\n",
       "      <td>23810.0</td>\n",
       "    </tr>\n",
       "    <tr>\n",
       "      <th>159</th>\n",
       "      <td>DE</td>\n",
       "      <td>2000</td>\n",
       "      <td>28910.0</td>\n",
       "    </tr>\n",
       "  </tbody>\n",
       "</table>\n",
       "</div>"
      ],
      "text/plain": [
       "    geo  TIME_PERIOD  OBS_VALUE\n",
       "365  HR         2022    14540.0\n",
       "243  EL         2015    16900.0\n",
       "214  EE         2009    10770.0\n",
       "586  MT         2022    23810.0\n",
       "159  DE         2000    28910.0"
      ]
     },
     "execution_count": 15,
     "metadata": {},
     "output_type": "execute_result"
    }
   ],
   "source": [
    "df_gdp1.sample(5)"
   ]
  },
  {
   "cell_type": "code",
   "execution_count": 16,
   "id": "6fea292b",
   "metadata": {},
   "outputs": [
    {
     "data": {
      "text/html": [
       "<div>\n",
       "<style scoped>\n",
       "    .dataframe tbody tr th:only-of-type {\n",
       "        vertical-align: middle;\n",
       "    }\n",
       "\n",
       "    .dataframe tbody tr th {\n",
       "        vertical-align: top;\n",
       "    }\n",
       "\n",
       "    .dataframe thead th {\n",
       "        text-align: right;\n",
       "    }\n",
       "</style>\n",
       "<table border=\"1\" class=\"dataframe\">\n",
       "  <thead>\n",
       "    <tr style=\"text-align: right;\">\n",
       "      <th></th>\n",
       "      <th>geo</th>\n",
       "      <th>TIME_PERIOD</th>\n",
       "      <th>Public otherublic</th>\n",
       "      <th>Public other</th>\n",
       "      <th>OBS_VALUE</th>\n",
       "    </tr>\n",
       "  </thead>\n",
       "  <tbody>\n",
       "    <tr>\n",
       "      <th>58</th>\n",
       "      <td>LV</td>\n",
       "      <td>2014</td>\n",
       "      <td>924.0</td>\n",
       "      <td>758.0</td>\n",
       "      <td>10270.0</td>\n",
       "    </tr>\n",
       "    <tr>\n",
       "      <th>18</th>\n",
       "      <td>DE</td>\n",
       "      <td>2018</td>\n",
       "      <td>3619.0</td>\n",
       "      <td>3440.0</td>\n",
       "      <td>35650.0</td>\n",
       "    </tr>\n",
       "    <tr>\n",
       "      <th>94</th>\n",
       "      <td>UK</td>\n",
       "      <td>2010</td>\n",
       "      <td>3197.0</td>\n",
       "      <td>2884.0</td>\n",
       "      <td>29830.0</td>\n",
       "    </tr>\n",
       "    <tr>\n",
       "      <th>41</th>\n",
       "      <td>HU</td>\n",
       "      <td>2018</td>\n",
       "      <td>869.0</td>\n",
       "      <td>903.0</td>\n",
       "      <td>12690.0</td>\n",
       "    </tr>\n",
       "    <tr>\n",
       "      <th>26</th>\n",
       "      <td>ES</td>\n",
       "      <td>2010</td>\n",
       "      <td>2105.0</td>\n",
       "      <td>2086.0</td>\n",
       "      <td>23040.0</td>\n",
       "    </tr>\n",
       "  </tbody>\n",
       "</table>\n",
       "</div>"
      ],
      "text/plain": [
       "   geo  TIME_PERIOD  Public otherublic  Public other  OBS_VALUE\n",
       "58  LV         2014              924.0         758.0    10270.0\n",
       "18  DE         2018             3619.0        3440.0    35650.0\n",
       "94  UK         2010             3197.0        2884.0    29830.0\n",
       "41  HU         2018              869.0         903.0    12690.0\n",
       "26  ES         2010             2105.0        2086.0    23040.0"
      ]
     },
     "execution_count": 16,
     "metadata": {},
     "output_type": "execute_result"
    }
   ],
   "source": [
    "# Merging 2 dataset based on Year and Country\n",
    "df1 = pd.merge(df_earn, df_gdp1, how='inner', left_on=['TIME_PERIOD', 'geo'], right_on=['TIME_PERIOD', 'geo'])\n",
    "df1.sample(5)"
   ]
  },
  {
   "cell_type": "code",
   "execution_count": 17,
   "id": "9070e93e",
   "metadata": {},
   "outputs": [
    {
     "name": "stdout",
     "output_type": "stream",
     "text": [
      "Earn and GDP Dataset describe:\n"
     ]
    },
    {
     "data": {
      "text/html": [
       "<div>\n",
       "<style scoped>\n",
       "    .dataframe tbody tr th:only-of-type {\n",
       "        vertical-align: middle;\n",
       "    }\n",
       "\n",
       "    .dataframe tbody tr th {\n",
       "        vertical-align: top;\n",
       "    }\n",
       "\n",
       "    .dataframe thead th {\n",
       "        text-align: right;\n",
       "    }\n",
       "</style>\n",
       "<table border=\"1\" class=\"dataframe\">\n",
       "  <thead>\n",
       "    <tr style=\"text-align: right;\">\n",
       "      <th></th>\n",
       "      <th>geo</th>\n",
       "      <th>TIME_PERIOD</th>\n",
       "      <th>Public otherublic</th>\n",
       "      <th>Public other</th>\n",
       "      <th>OBS_VALUE</th>\n",
       "    </tr>\n",
       "  </thead>\n",
       "  <tbody>\n",
       "    <tr>\n",
       "      <th>count</th>\n",
       "      <td>97</td>\n",
       "      <td>97.000000</td>\n",
       "      <td>97.000000</td>\n",
       "      <td>97.000000</td>\n",
       "      <td>97.000000</td>\n",
       "    </tr>\n",
       "    <tr>\n",
       "      <th>unique</th>\n",
       "      <td>36</td>\n",
       "      <td>NaN</td>\n",
       "      <td>NaN</td>\n",
       "      <td>NaN</td>\n",
       "      <td>NaN</td>\n",
       "    </tr>\n",
       "    <tr>\n",
       "      <th>top</th>\n",
       "      <td>IT</td>\n",
       "      <td>NaN</td>\n",
       "      <td>NaN</td>\n",
       "      <td>NaN</td>\n",
       "      <td>NaN</td>\n",
       "    </tr>\n",
       "    <tr>\n",
       "      <th>freq</th>\n",
       "      <td>3</td>\n",
       "      <td>NaN</td>\n",
       "      <td>NaN</td>\n",
       "      <td>NaN</td>\n",
       "      <td>NaN</td>\n",
       "    </tr>\n",
       "    <tr>\n",
       "      <th>mean</th>\n",
       "      <td>NaN</td>\n",
       "      <td>2013.876289</td>\n",
       "      <td>1995.783505</td>\n",
       "      <td>1752.505155</td>\n",
       "      <td>26574.020619</td>\n",
       "    </tr>\n",
       "    <tr>\n",
       "      <th>std</th>\n",
       "      <td>NaN</td>\n",
       "      <td>3.237983</td>\n",
       "      <td>1768.713941</td>\n",
       "      <td>1591.739190</td>\n",
       "      <td>18949.778234</td>\n",
       "    </tr>\n",
       "    <tr>\n",
       "      <th>min</th>\n",
       "      <td>NaN</td>\n",
       "      <td>2010.000000</td>\n",
       "      <td>0.000000</td>\n",
       "      <td>0.000000</td>\n",
       "      <td>3460.000000</td>\n",
       "    </tr>\n",
       "    <tr>\n",
       "      <th>25%</th>\n",
       "      <td>NaN</td>\n",
       "      <td>2010.000000</td>\n",
       "      <td>705.000000</td>\n",
       "      <td>579.000000</td>\n",
       "      <td>11290.000000</td>\n",
       "    </tr>\n",
       "    <tr>\n",
       "      <th>50%</th>\n",
       "      <td>NaN</td>\n",
       "      <td>2014.000000</td>\n",
       "      <td>1345.000000</td>\n",
       "      <td>1159.000000</td>\n",
       "      <td>22300.000000</td>\n",
       "    </tr>\n",
       "    <tr>\n",
       "      <th>75%</th>\n",
       "      <td>NaN</td>\n",
       "      <td>2018.000000</td>\n",
       "      <td>3280.000000</td>\n",
       "      <td>2884.000000</td>\n",
       "      <td>35650.000000</td>\n",
       "    </tr>\n",
       "    <tr>\n",
       "      <th>max</th>\n",
       "      <td>NaN</td>\n",
       "      <td>2018.000000</td>\n",
       "      <td>7976.000000</td>\n",
       "      <td>6587.000000</td>\n",
       "      <td>83550.000000</td>\n",
       "    </tr>\n",
       "  </tbody>\n",
       "</table>\n",
       "</div>"
      ],
      "text/plain": [
       "        geo  TIME_PERIOD  Public otherublic  Public other     OBS_VALUE\n",
       "count    97    97.000000          97.000000     97.000000     97.000000\n",
       "unique   36          NaN                NaN           NaN           NaN\n",
       "top      IT          NaN                NaN           NaN           NaN\n",
       "freq      3          NaN                NaN           NaN           NaN\n",
       "mean    NaN  2013.876289        1995.783505   1752.505155  26574.020619\n",
       "std     NaN     3.237983        1768.713941   1591.739190  18949.778234\n",
       "min     NaN  2010.000000           0.000000      0.000000   3460.000000\n",
       "25%     NaN  2010.000000         705.000000    579.000000  11290.000000\n",
       "50%     NaN  2014.000000        1345.000000   1159.000000  22300.000000\n",
       "75%     NaN  2018.000000        3280.000000   2884.000000  35650.000000\n",
       "max     NaN  2018.000000        7976.000000   6587.000000  83550.000000"
      ]
     },
     "execution_count": 17,
     "metadata": {},
     "output_type": "execute_result"
    }
   ],
   "source": [
    "print(\"Earn and GDP Dataset describe:\")\n",
    "df1.describe(include='all')"
   ]
  },
  {
   "cell_type": "code",
   "execution_count": 18,
   "id": "4e4e595e",
   "metadata": {},
   "outputs": [
    {
     "name": "stdout",
     "output_type": "stream",
     "text": [
      "Filtered area values: ['ES' 'IE' 'NL']\n",
      "Number of Areas filtered: 3\n"
     ]
    }
   ],
   "source": [
    "# Keep Ireland, Netherlands, and Spain only for comparison\n",
    "df_eu = df1[df1['geo'].isin(['IE', 'NL', 'ES'])].reset_index(drop=True)\n",
    "\n",
    "print('Filtered area values:', df_eu['geo'].unique())\n",
    "print('Number of Areas filtered:', len(df_eu['geo'].unique()))"
   ]
  },
  {
   "cell_type": "code",
   "execution_count": 49,
   "id": "4466ce34",
   "metadata": {},
   "outputs": [
    {
     "data": {
      "image/png": "[encoded data removed]",
      "text/plain": [
       "<Figure size 432x288 with 1 Axes>"
      ]
     },
     "metadata": {
      "needs_background": "light"
     },
     "output_type": "display_data"
    }
   ],
   "source": [
    "# Shows GDP change over years\n",
    "ax = sns.lineplot(data=df_eu, x='TIME_PERIOD', y='OBS_VALUE', hue='geo', palette='hls')\n",
    "ax.set_title('GDP compared to EU')\n",
    "plt.show()"
   ]
  },
  {
   "cell_type": "code",
   "execution_count": 48,
   "id": "dd15ef56",
   "metadata": {},
   "outputs": [
    {
     "data": {
      "image/png": "[encoded data removed]",
      "text/plain": [
       "<Figure size 432x288 with 1 Axes>"
      ]
     },
     "metadata": {
      "needs_background": "light"
     },
     "output_type": "display_data"
    }
   ],
   "source": [
    "# Shows GDP change over years\n",
    "ax = sns.lineplot(data=df_eu, x='TIME_PERIOD', y='Public otherublic', hue='geo', palette='hls')\n",
    "ax.set_title('GDP compared to EU')\n",
    "plt.show()"
   ]
  },
  {
   "cell_type": "code",
   "execution_count": 21,
   "id": "2df79c0e",
   "metadata": {},
   "outputs": [
    {
     "data": {
      "image/png": "[encoded data removed]",
      "text/plain": [
       "<Figure size 432x288 with 1 Axes>"
      ]
     },
     "metadata": {
      "needs_background": "light"
     },
     "output_type": "display_data"
    }
   ],
   "source": [
    "# Shows GDP change over years\n",
    "ax = sns.lineplot(data=df_eu, x='TIME_PERIOD', y='Public other', hue='geo', palette='hls')\n",
    "ax.set_title('GDP compared to EU')\n",
    "plt.show()"
   ]
  },
  {
   "cell_type": "code",
   "execution_count": 22,
   "id": "a21b869a",
   "metadata": {},
   "outputs": [
    {
     "data": {
      "text/plain": [
       "0    0.090538\n",
       "1    0.093789\n",
       "2    0.089353\n",
       "3    0.100218\n",
       "4    0.102146\n",
       "5    0.069259\n",
       "6    0.076995\n",
       "7    0.079082\n",
       "8    0.080217\n",
       "dtype: float64"
      ]
     },
     "execution_count": 22,
     "metadata": {},
     "output_type": "execute_result"
    }
   ],
   "source": [
    "# Keep Ireland, Netherlands, and Spain for more comparison\n",
    "df_comp = df1[df1['geo'].isin(['IE', 'ES', 'NL'])].reset_index(drop=True)\n",
    "# Add column for Public other per OBS_VALUE\n",
    "df_comp['Public other'] / df_comp['OBS_VALUE']"
   ]
  },
  {
   "cell_type": "code",
   "execution_count": 23,
   "id": "c7350bfd",
   "metadata": {},
   "outputs": [
    {
     "data": {
      "image/png": "[encoded data removed]",
      "text/plain": [
       "<Figure size 625x576 with 16 Axes>"
      ]
     },
     "metadata": {
      "needs_background": "light"
     },
     "output_type": "display_data"
    }
   ],
   "source": [
    "# Pair-wise comparison for each column\n",
    "g = sns.pairplot(df_comp, size=2, hue='geo', palette='hls', diag_kind=None)\n",
    "g.fig.suptitle(\"Dataset pair-wise column comparing for 3 selected countries\", y=1.3)\n",
    "plt.show()"
   ]
  },
  {
   "cell_type": "code",
   "execution_count": 50,
   "id": "f1835ce2",
   "metadata": {},
   "outputs": [
    {
     "data": {
      "image/png": "[encoded data removed]",
      "text/plain": [
       "<Figure size 432x288 with 2 Axes>"
      ]
     },
     "metadata": {
      "needs_background": "light"
     },
     "output_type": "display_data"
    }
   ],
   "source": [
    "# Correlation of columns\n",
    "ax = sns.heatmap(df_comp.corr(), cbar=True, annot=True, square=True, fmt='.2f')\n",
    "ax.set_title(\"Dataset pair-wise column correlation for 3 selected countries\")\n",
    "plt.show()"
   ]
  },
  {
   "cell_type": "code",
   "execution_count": 25,
   "id": "1971021f",
   "metadata": {},
   "outputs": [
    {
     "data": {
      "image/png": "[encoded data removed]",
      "text/plain": [
       "<Figure size 720x432 with 3 Axes>"
      ]
     },
     "metadata": {
      "needs_background": "light"
     },
     "output_type": "display_data"
    }
   ],
   "source": [
    "boxplot_columns = [ 'Public otherublic', 'Public other', 'OBS_VALUE']\n",
    "fig, ax = plt.subplots(1, len(boxplot_columns), figsize=(10, 6))\n",
    "fig.suptitle(\"Dataset box plots for 3 selected countries\")\n",
    "plt.subplots_adjust(wspace=1.2)\n",
    "for i in range(len(boxplot_columns)):\n",
    "  sns.boxplot(data=df_comp[[boxplot_columns[i]]], ax=ax[i])\n",
    "plt.show()"
   ]
  },
  {
   "cell_type": "code",
   "execution_count": 52,
   "id": "0b4764d0",
   "metadata": {},
   "outputs": [
    {
     "data": {
      "image/png": "[encoded data removed]",
      "text/plain": [
       "<Figure size 432x288 with 1 Axes>"
      ]
     },
     "metadata": {
      "needs_background": "light"
     },
     "output_type": "display_data"
    }
   ],
   "source": [
    "# Earnings change over years of 3 target countries\n",
    "ax = sns.lineplot(data=df_comp, x='TIME_PERIOD', y='Public other', hue='geo', palette='hls')\n",
    "ax.set_title('Earnings of 3 countries')\n",
    "plt.show()"
   ]
  },
  {
   "cell_type": "markdown",
   "id": "b9148ebb",
   "metadata": {},
   "source": [
    "## 2. Statistics Techniques"
   ]
  },
  {
   "cell_type": "code",
   "execution_count": 27,
   "id": "4059de81",
   "metadata": {},
   "outputs": [
    {
     "name": "stdout",
     "output_type": "stream",
     "text": [
      "Average earning of Ireland since 2010: 3920.6666666666665\n",
      "Average earning of Netherlands since 2010: 3112.6666666666665\n",
      "Average earning of Spain since 2010: 2131.3333333333335\n",
      "Average earning of 3 selected countries since 2010: 3054.8888888888887\n"
     ]
    }
   ],
   "source": [
    "# Statistics for select 3 countries Earning\n",
    "earn_ie = df_comp[df_comp['geo'] == 'IE']['Public other']\n",
    "earn_nl = df_comp[df_comp['geo'] == 'NL']['Public other']\n",
    "earn_es = df_comp[df_comp['geo'] == 'ES']['Public other']\n",
    "\n",
    "earn_avg_ie = earn_ie.mean()\n",
    "earn_avg_nl = earn_nl.mean()\n",
    "earn_avg_es = earn_es.mean()\n",
    "earn_avg_all = df_comp['Public other'].mean()\n",
    "\n",
    "print('Average earning of Ireland since 2010:', earn_avg_ie)\n",
    "print('Average earning of Netherlands since 2010:', earn_avg_nl)\n",
    "print('Average earning of Spain since 2010:', earn_avg_es)\n",
    "print('Average earning of 3 selected countries since 2010:', earn_avg_all)"
   ]
  },
  {
   "cell_type": "markdown",
   "id": "0f95352e",
   "metadata": {},
   "source": [
    "This code calculates the average of earnings for Ireland, the Netherlands and Spain and prints these values to the screen. In this way, a general idea about the earnings of the three countries can be obtained."
   ]
  },
  {
   "cell_type": "markdown",
   "id": "00ae98ca",
   "metadata": {},
   "source": [
    "### 2.1 Confidence Interval\n"
   ]
  },
  {
   "cell_type": "code",
   "execution_count": 28,
   "id": "76368d81",
   "metadata": {},
   "outputs": [
    {
     "name": "stdout",
     "output_type": "stream",
     "text": [
      "======== Ireland ========\n",
      "Average of Earning: 3920.6666666666665\n",
      "Standart Deviation of earning: 215.53267347048183\n",
      "Lower 95% Confidence Interval limit: 3524.6499000933236\n",
      "Upper 95% Confidence Interval limit: 4316.683433240009\n"
     ]
    }
   ],
   "source": [
    "# Confidence interval for the Ireland Earnings\n",
    "lower_limit_ie, upper_limit_ie = t.interval(\n",
    "    alpha=0.95, df=len(earn_ie), loc=earn_ie.mean(),\n",
    "    scale=earn_ie.std()/math.sqrt(len(earn_ie)))\n",
    "\n",
    "print('======== Ireland ========')\n",
    "print('Average of Earning:', earn_ie.mean())\n",
    "print('Standart Deviation of earning:', earn_ie.std())\n",
    "print('Lower 95% Confidence Interval limit:', lower_limit_ie)\n",
    "print('Upper 95% Confidence Interval limit:', upper_limit_ie)"
   ]
  },
  {
   "cell_type": "markdown",
   "id": "fe717cef",
   "metadata": {},
   "source": [
    "Average of Earning: The average value of Ireland's earnings on the sample data was found to be 3920.67. Standard Deviation of Earning: The standard deviation of Ireland's earnings on the sample data was calculated as 215.53. Lower Bound (95% Confidence Interval Limit - Lower 95% Confidence Interval limit): The lower bound of the 95% confidence interval of Ireland's gain, calculated as 3524.65. This value indicates that Ireland's earnings are less than or equal to the true population mean value at the 95% confidence level. Upper Bound (95% Confidence Interval Upper Limit - Upper 95% Confidence Interval limit): The upper bound of the 95% Confidence Interval limit of Ireland's earnings, calculated as 4316.68. This value indicates that Ireland's earnings are greater than or equal to the true population mean value at the 95% confidence level. As a result, the 95% confidence interval for Ireland's earnings should be between 3524.65 and 4316.68. This range is estimated to fall within this range at the 95% confidence level of Ireland's true population mean gain. The confidence interval can be used to make a more precise estimate of Ireland's earnings and shows how reliable the estimate is at the 95% confidence level."
   ]
  },
  {
   "cell_type": "code",
   "execution_count": 29,
   "id": "f34a2e99",
   "metadata": {},
   "outputs": [
    {
     "name": "stdout",
     "output_type": "stream",
     "text": [
      "======== Netherlands ========\n",
      "Average of Earning: 3112.6666666666665\n",
      "Standart Deviation of earning: 189.1939040596534\n",
      "Lower 95% Confidence Interval limit: 2765.0443923512485\n",
      "Upper 95% Confidence Interval limit: 3460.2889409820846\n"
     ]
    }
   ],
   "source": [
    "# Confidence interval for the Netherlands Earning\n",
    "lower_limit_ie, upper_limit_ie = t.interval(\n",
    "    alpha=0.95, df=len(earn_nl), loc=earn_nl.mean(),\n",
    "    scale=earn_nl.std()/math.sqrt(len(earn_nl)))\n",
    "\n",
    "print('======== Netherlands ========')\n",
    "print('Average of Earning:', earn_nl.mean())\n",
    "print('Standart Deviation of earning:', earn_nl.std())\n",
    "print('Lower 95% Confidence Interval limit:', lower_limit_ie)\n",
    "print('Upper 95% Confidence Interval limit:', upper_limit_ie)"
   ]
  },
  {
   "cell_type": "markdown",
   "id": "a4c075ab",
   "metadata": {},
   "source": [
    "Average of Earning: The average value of Dutch earnings on the sample data was calculated as 3112.67.\n",
    "Standard Deviation of Earning: The standard deviation of the Dutch earnings on the sample data was found to be 189.19.\n",
    "Lower Bound (95% Confidence Interval Limit - Lower 95% Confidence Interval limit): The lower bound of the 95% confidence interval of the Netherlands' gain was calculated as 2765.04. This indicates that the real population average gain of the Netherlands is greater than or equal to this value at the 95% confidence level.\n",
    "Upper Bound (95% Confidence Interval Upper Limit - Upper 95% Confidence Interval limit): The upper bound of the 95% confidence interval of the Netherlands' gain was calculated as 3460.29. This indicates that the real population average gain of the Netherlands is less than or equal to this value at the 95% confidence level.\n",
    "The Netherlands earnings are therefore within the 95% confidence interval of 2765.04 and 3460.29. This range provides an estimate of the real average wages of the Netherlands population, which are believed to fall within this range, with a 95% degree of confidence. The confidence interval displays the estimate's 95% degree of confidence and can be used to more precisely forecast Netherlands earnings. Our estimate will be more accurate the narrower the range."
   ]
  },
  {
   "cell_type": "code",
   "execution_count": 30,
   "id": "dcf6f46b",
   "metadata": {},
   "outputs": [
    {
     "name": "stdout",
     "output_type": "stream",
     "text": [
      "======== Spain ========\n",
      "Average of Earning: 2131.3333333333335\n",
      "Standart Deviation of earning: 80.25791757411434\n",
      "Lower 95% Confidence Interval limit: 1983.8685406509212\n",
      "Upper 95% Confidence Interval limit: 2278.7981260157458\n"
     ]
    }
   ],
   "source": [
    "# Confidence interval for the Spain Earning\n",
    "lower_limit_ie, upper_limit_ie = t.interval(\n",
    "    alpha=0.95, df=len(earn_es), loc=earn_es.mean(),\n",
    "    scale=earn_es.std()/math.sqrt(len(earn_es)))\n",
    "\n",
    "print('======== Spain ========')\n",
    "print('Average of Earning:', earn_es.mean())\n",
    "print('Standart Deviation of earning:', earn_es.std())\n",
    "print('Lower 95% Confidence Interval limit:', lower_limit_ie)\n",
    "print('Upper 95% Confidence Interval limit:', upper_limit_ie)"
   ]
  },
  {
   "cell_type": "markdown",
   "id": "8d2f04fc",
   "metadata": {},
   "source": [
    "Average of Earning: The average value of Spain's earnings on the sample data was calculated as 2131.33.\n",
    "Standard Deviation of Earning: The standard deviation value of Spain's earnings on the sample data was found to be 80.26.\n",
    "Lower Bound (95% Confidence Interval Limit - Lower 95% Confidence Interval limit): The lower bound of the 95% confidence interval of Spain's earnings, calculated as 1983.87. This value indicates that Spain's real population mean gain is greater than or equal to this value at the 95% confidence level.\n",
    "Upper Bound (95% Confidence Interval Upper Limit - Upper 95% Confidence Interval limit): The upper bound of the 95% confidence interval of Spain's earnings, calculated as 2278.80. This value indicates that Spain's real population mean gain is less than or equal to this value at the 95% confidence level.\n",
    "Consequently, the 95% confidence interval for Spain's earnings is between 1983.87 and 2278.80. The real average earnings of the Spanish population are anticipated to fall within this range at a 95% confidence level. Spain's earnings can be estimated more precisely using the confidence interval, which also shows the estimate's accuracy at a 95% level of confidence. Our estimate will be more accurate the more confined the range is."
   ]
  },
  {
   "cell_type": "markdown",
   "id": "5feade6c",
   "metadata": {},
   "source": [
    "### 2.2. One-Sample T-Test"
   ]
  },
  {
   "cell_type": "code",
   "execution_count": 31,
   "id": "c258763d",
   "metadata": {},
   "outputs": [
    {
     "name": "stdout",
     "output_type": "stream",
     "text": [
      "For Ireland, testing null hypothesis with mean earning Ireland:\n",
      "Ireland average earning: 3920.6666666666665\n",
      "tstatistics: 0.0\n",
      "pvalue: 1.0\n",
      "Null hypothesis cant be rejected for Ireland earning compared to Ireland average\n"
     ]
    }
   ],
   "source": [
    "# One-Sample T-Test for Ireland earning with its average to confirm the test is working well\n",
    "print('For Ireland, testing null hypothesis with mean earning Ireland:')\n",
    "tstatistics, pvalue = ttest_1samp(earn_ie, popmean=earn_avg_ie)\n",
    "print('Ireland average earning:', earn_avg_ie)\n",
    "print('tstatistics:', tstatistics)\n",
    "print('pvalue:', pvalue)\n",
    "if pvalue < 0.05:  # Using 95% confidence level\n",
    "  print('Null hypothesis is rejected for Ireland earning compared to Ireland average')\n",
    "else:\n",
    "  print('Null hypothesis cant be rejected for Ireland earning compared to Ireland average')"
   ]
  },
  {
   "cell_type": "markdown",
   "id": "34f9efda",
   "metadata": {},
   "source": [
    "Ireland average wages: 3920.67 is listed as Ireland's average earnings.\n",
    "t-statistics: The t-statistic that was obtained appears to be 0.0. This shows that the sample mean is exactly equal to the average annual wage in Ireland.\n",
    "p-value: A final p-value of 1 was obtained.This shows that the data may have been generated entirely by chance if the null hypothesis is true and the sample mean is equal to the average wage in Ireland.\n",
    "The t-test results reveal that there is no statistically significant difference between Ireland's earnings and its average earnings.  The findings show that (at least for the suggested significance level), earnings in Ireland do not differ significantly from Irish average earnings."
   ]
  },
  {
   "cell_type": "code",
   "execution_count": 32,
   "id": "d0962059",
   "metadata": {
    "scrolled": true
   },
   "outputs": [
    {
     "name": "stdout",
     "output_type": "stream",
     "text": [
      "For Ireland, testing null hypothesis with mean production of 3 countries:\n",
      "Ireland average production: 3920.6666666666665\n",
      "3 countries average production: 3054.8888888888887\n",
      "tstatistics: 0.0\n",
      "pvalue: 1.0\n",
      "Null hypothesis cant be rejected for Ireland earning compared to 3 countries average\n"
     ]
    }
   ],
   "source": [
    "# One-Sample T-Test for Ireland earning with 95% confidence level\n",
    "print('For Ireland, testing null hypothesis with mean production of 3 countries:')\n",
    "tstatistics, pvalue = ttest_1samp(earn_ie, popmean=earn_avg_ie)\n",
    "print('Ireland average production:', earn_avg_ie)\n",
    "print('3 countries average production:', earn_avg_all)\n",
    "print('tstatistics:', tstatistics)\n",
    "print('pvalue:', pvalue)\n",
    "if pvalue < 0.05:  # Using 95% confidence level\n",
    "  print('Null hypothesis is rejected for Ireland earning compared to 3 countries average')\n",
    "else:\n",
    "  print('Null hypothesis cant be rejected for Ireland earning compared to 3 countries average')"
   ]
  },
  {
   "cell_type": "markdown",
   "id": "3334c134",
   "metadata": {},
   "source": [
    "Irish Average Production: Ireland's average production is given as 3920.67.\n",
    "Average Production of 3 Countries: The total average production of the three countries is given as 3054.89.\n",
    "t Statistic: The t statistic shows a value of 0.0, which indicates that Ireland's sample perfection is exactly equal to the average production of the three countries.\n",
    "P value: The p value is one. In other words, this information can only be learned by accident if the null hypothesis is true and it is assumed that the production of Ireland's sample is equal to the average production of the three countries.\n",
    "The null hypothesis cannot be disproved since the computed p-value above the 0.05 specified significance threshold (alpha) (when the 95% confidence level is utilized). It is determined that Ireland's production is not significantly different from the average production of the three nations based on the information provided and the confidence level chosen.\n",
    "\n",
    "In other words, the statistical study shows that there is no statistically significant difference between the output of Ireland and the average of the other three countries."
   ]
  },
  {
   "cell_type": "code",
   "execution_count": 33,
   "id": "af27a587",
   "metadata": {
    "scrolled": true
   },
   "outputs": [
    {
     "name": "stdout",
     "output_type": "stream",
     "text": [
      "For Netherlands, testing null hypothesis with mean production of 3 countries:\n",
      "Netherlands average earning: 3112.6666666666665\n",
      "3 countries average earning: 3054.8888888888887\n",
      "tstatistics: 0.0\n",
      "pvalue: 1.0\n",
      "Null hypothesis cant be rejected for Netherlands earning compared to 3 countries average\n"
     ]
    }
   ],
   "source": [
    "# One-Sample T-Test for Netherlands earning with 95% confidence level\n",
    "print('For Netherlands, testing null hypothesis with mean production of 3 countries:')\n",
    "tstatistics, pvalue = ttest_1samp(earn_nl, popmean=earn_avg_nl)\n",
    "print('Netherlands average earning:', earn_avg_nl)\n",
    "print('3 countries average earning:', earn_avg_all)\n",
    "print('tstatistics:', tstatistics)\n",
    "print('pvalue:', pvalue)\n",
    "if pvalue < 0.05:  # Using 95% confidence level\n",
    "  print('Null hypothesis is rejected for Netherlands earning compared to 3 countries average')\n",
    "else:\n",
    "  print('Null hypothesis cant be rejected for Netherlands earning compared to 3 countries average')"
   ]
  },
  {
   "cell_type": "markdown",
   "id": "a58f5ba8",
   "metadata": {},
   "source": [
    "The earnings of the Netherlands are compared to the average earnings of the three nations in this code using a one-sample t-test. We look at the t statistic and the p value that the t-test produced. The p-value is then evaluated to see if the null hypothesis is rejected or not using the 0.05 significance threshold (95% confidence level).\n",
    "\n",
    "In this code, we contrast the Netherlands' earnings with the mean earnings of the three (selected) nations. The following observations can be drawn from the t-test results:\n",
    "\n",
    "Netherlands average earning: The average earning of the Netherlands is stated.\n",
    "3 countries average earning: The total average earnings of the specified countries are stated.\n",
    "tstatistics: The t-statistic value is specified.\n",
    "\n"
   ]
  },
  {
   "cell_type": "code",
   "execution_count": 34,
   "id": "5be4e4bd",
   "metadata": {},
   "outputs": [
    {
     "name": "stdout",
     "output_type": "stream",
     "text": [
      "For Spain, testing null hypothesis with mean production of 3 countries:\n",
      "Spain average production: 2131.3333333333335\n",
      "3 countries average production: 3054.8888888888887\n",
      "tstatistics: 0.0\n",
      "pvalue: 1.0\n",
      "Null hypothesis cant be rejected for Spain earning compared to 3 countries average\n"
     ]
    }
   ],
   "source": [
    "# One-Sample T-Test for Spain earning with 95% confidence level\n",
    "print('For Spain, testing null hypothesis with mean production of 3 countries:')\n",
    "tstatistics, pvalue = ttest_1samp(earn_es, popmean=earn_avg_es)\n",
    "print('Spain average production:', earn_avg_es)\n",
    "print('3 countries average production:', earn_avg_all)\n",
    "print('tstatistics:', tstatistics)\n",
    "print('pvalue:', pvalue)\n",
    "if pvalue < 0.05:  # Using 95% confidence level\n",
    "  print('Null hypothesis is rejected for Spain earning compared to 3 countries average')\n",
    "else:\n",
    "  print('Null hypothesis cant be rejected for Spain earning compared to 3 countries average')"
   ]
  },
  {
   "cell_type": "markdown",
   "id": "e03de360",
   "metadata": {},
   "source": [
    "According to the results of the single sample t-test for Spain's earnings, it was seen that there was no significant difference when Spain's earnings were compared with the average earnings of 3 countries.\n",
    "According to the code output:\n",
    "• Spain's earnings were calculated as 2131.33.\n",
    "• The earnings of the other 3 countries are calculated as 3054.89.\n",
    "• The t-test statistic was found to be 0.0.\n",
    "• P value (pvalue) was calculated as 1.0.\n",
    "The P-value is a statistical measure that helps determine whether there is a significant difference between the true mean of the population and the sample mean. Here, the p value is 1.0, and since this value is greater than the significance level of 5% (0.05), the null hypothesis is accepted and the claim that Spain's earnings are significantly different from the other 3 countries' earnings is rejected.\n",
    "In conclusion, according to our data, Spain's earnings do not differ significantly when compared to the earnings of the other 3 countries. That is, Spain's earnings are similar or on par with other countries."
   ]
  },
  {
   "cell_type": "markdown",
   "id": "43c2bf61",
   "metadata": {},
   "source": [
    "### 2.3. Two-Sample T-Test"
   ]
  },
  {
   "cell_type": "code",
   "execution_count": 35,
   "id": "14083d4c",
   "metadata": {},
   "outputs": [
    {
     "name": "stdout",
     "output_type": "stream",
     "text": [
      "Testing null hypothesis for Ireland and Netherlands earnings:\n",
      "Ireland average earnings: 3920.6666666666665\n",
      "Netherlands average earnings: 3112.6666666666665\n",
      "tstatistics: 4.879862162012225\n",
      "pvalue: 0.008161420947010663\n",
      "Null hypothesis is rejected, there is a significant difference between Ireland and Netherlands earnings\n"
     ]
    }
   ],
   "source": [
    "# Two-Sample T-Test for Ireland and Netherlands\n",
    "print('Testing null hypothesis for Ireland and Netherlands earnings:')\n",
    "tstatistics, pvalue = ttest_ind(earn_ie, earn_nl)\n",
    "print('Ireland average earnings:', earn_avg_ie)\n",
    "print('Netherlands average earnings:', earn_avg_nl)\n",
    "print('tstatistics:', tstatistics)\n",
    "print('pvalue:', pvalue)\n",
    "if pvalue < 0.05:  # Using 95% confidence level\n",
    "  print('Null hypothesis is rejected, there is a significant difference between Ireland and Netherlands earnings')\n",
    "else:\n",
    "  print('Null hypothesis cant be rejected, no significant difference between Ireland and Netherlands earnings')"
   ]
  },
  {
   "cell_type": "markdown",
   "id": "be8d8ad6",
   "metadata": {},
   "source": [
    "These discoveries lead to the conclusion that the earnings of Ireland and the Netherlands don't vary essentially from one another. The invalid theory cannot be discredited since the P value is higher than 0.05 (at the 5% level of noteworthiness), and it is presumed that there's no perceivable contrast between the earnings of Ireland and the Netherlands. Since of this, it cannot be contended that the livelihoods of Ireland and the Netherlands contrast essentially; or maybe, the two nations' earnings are comparable or on standard."
   ]
  },
  {
   "cell_type": "code",
   "execution_count": 36,
   "id": "85bea502",
   "metadata": {},
   "outputs": [
    {
     "name": "stdout",
     "output_type": "stream",
     "text": [
      "Testing null hypothesis for Ireland and Spain earnings:\n",
      "Ireland average earnings: 3920.6666666666665\n",
      "Spain average earnings: 2131.3333333333335\n",
      "tstatistics: 13.475405173183907\n",
      "pvalue: 0.00017547101431516316\n",
      "Null hypothesis is rejected, there is a significant difference between Ireland and Spain earnings\n"
     ]
    }
   ],
   "source": [
    "# Two-Sample T-Test for Ireland and Spain\n",
    "print('Testing null hypothesis for Ireland and Spain earnings:')\n",
    "tstatistics, pvalue = ttest_ind(earn_ie, earn_es)\n",
    "print('Ireland average earnings:', earn_avg_ie)\n",
    "print('Spain average earnings:', earn_avg_es)\n",
    "print('tstatistics:', tstatistics)\n",
    "print('pvalue:', pvalue)\n",
    "if pvalue < 0.05:  # Using 95% confidence level\n",
    "  print('Null hypothesis is rejected, there is a significant difference between Ireland and Spain earnings')\n",
    "else:\n",
    "  print('Null hypothesis cant be rejected, no significant difference between Ireland and Spain earnings')"
   ]
  },
  {
   "cell_type": "markdown",
   "id": "9202edf1",
   "metadata": {},
   "source": [
    "From these comes about, it can be concluded that there's a noteworthy distinction between the incomes of Ireland which of Spain. Since the p-value (utilizing the 5%) centrality level was found to be 0.000175, and this esteem is much lower than 5% (0.05), it is considered noteworthy. Hence, the theory isn't rejected and it is expected that there's a noteworthy distinction between the earnings of Ireland which of Spain. As a result, it can be said that there's a noteworthy contrast between the earnings of the two nations."
   ]
  },
  {
   "cell_type": "markdown",
   "id": "c0ae10b1",
   "metadata": {},
   "source": [
    "### 2.4. Two-Sample Kolmogorov-Smirnov test\n"
   ]
  },
  {
   "cell_type": "code",
   "execution_count": 37,
   "id": "97db44f6",
   "metadata": {},
   "outputs": [
    {
     "name": "stdout",
     "output_type": "stream",
     "text": [
      "Testing null hypothesis for Ireland and Netherlands earning:\n",
      "Ireland average earning: 3920.6666666666665\n",
      "Netherlands average earning: 3112.6666666666665\n",
      "ks statistics: 1.0\n",
      "pvalue: 0.09999999999999999\n",
      "Null hypothesis cant be rejected, no significant difference between Ireland and Netherlands earning\n"
     ]
    }
   ],
   "source": [
    "# Kolmogorov-Smirnov test for Ireland and Netherlands\n",
    "print('Testing null hypothesis for Ireland and Netherlands earning:')\n",
    "print('Ireland average earning:', earn_avg_ie)\n",
    "print('Netherlands average earning:', earn_avg_nl)\n",
    "ks_statistic, pvalue = ks_2samp(earn_ie, earn_nl)\n",
    "print('ks statistics:', ks_statistic)\n",
    "print('pvalue:', pvalue)\n",
    "if pvalue < 0.05:  # Using 95% confidence level\n",
    "  print('Null hypothesis is rejected, there is a significant difference between Ireland and Netherlands earning')\n",
    "else:\n",
    "  print('Null hypothesis cant be rejected, no significant difference between Ireland and Netherlands earning')"
   ]
  },
  {
   "cell_type": "markdown",
   "id": "256af13f",
   "metadata": {},
   "source": [
    "Agreeing to these comes about, Kolmogorov-Smirnov test was performed between the earning of Ireland and the Netherlands and the p value was calculated as 0.099999999999999999 at the 5% noteworthiness level. Since this p-value is more prominent than 5% (0.05), the invalid theory cannot be rejected and it is accepted that there's no measurably noteworthy distinction between the earning of Ireland and the Netherlands.\n",
    "\n",
    "In conclusion, concurring to this test result, it can be said that there's no noteworthy contrast between the profit of Ireland and the Netherlands, and the earning between the two nations are comparative or at the same level."
   ]
  },
  {
   "cell_type": "code",
   "execution_count": 38,
   "id": "12b0d0da",
   "metadata": {},
   "outputs": [
    {
     "name": "stdout",
     "output_type": "stream",
     "text": [
      "Testing null hypothesis for Ireland and Spain earning:\n",
      "Ireland average earning: 3920.6666666666665\n",
      "Spain average earning: 2131.3333333333335\n",
      "ks statistics: 1.0\n",
      "pvalue: 0.09999999999999999\n",
      "Null hypothesis cant be rejected, no significant difference between Ireland and Spain earning\n"
     ]
    }
   ],
   "source": [
    "# Kolmogorov-Smirnov test for Ireland and Spain\n",
    "print('Testing null hypothesis for Ireland and Spain earning:')\n",
    "print('Ireland average earning:', earn_avg_ie)\n",
    "print('Spain average earning:', earn_avg_es)\n",
    "ks_statistic, pvalue = ks_2samp(earn_ie, earn_es)\n",
    "print('ks statistics:', ks_statistic)\n",
    "print('pvalue:', pvalue)\n",
    "if pvalue < 0.05:  # Using 95% confidence level\n",
    "  print('Null hypothesis is rejected, there is a significant difference between Ireland and Spain earning')\n",
    "else:\n",
    "  print('Null hypothesis cant be rejected, no significant difference between Ireland and Spain earning')"
   ]
  },
  {
   "cell_type": "markdown",
   "id": "82d856d4",
   "metadata": {},
   "source": [
    "Agreeing to these comes about, Kolmogorov-Smirnov test was performed between the earning of Ireland and Spain and the p value was calculated as 0.099999999999999999 at 5% noteworthiness level. As this p-value is more prominent than 5% (0.05), the invalid theory cannot be rejected and it is expected that there's no factually critical contrast between the profit of Ireland and Spain.\n",
    "\n",
    "In conclusion, concurring to this test result, it can be said that there's no noteworthy contrast between the earning of Ireland and Spain and the earning between the two nations are comparative or at the same level."
   ]
  },
  {
   "cell_type": "code",
   "execution_count": 39,
   "id": "bb282dab",
   "metadata": {},
   "outputs": [
    {
     "name": "stdout",
     "output_type": "stream",
     "text": [
      "Testing null hypothesis for Spain and Netherlands earning:\n",
      "Spain average earning: 2131.3333333333335\n",
      "Netherlands average earning: 3112.6666666666665\n",
      "ks statistics: 1.0\n",
      "pvalue: 0.09999999999999999\n",
      "Null hypothesis cant be rejected, no significant difference between Spain and Netherlands earning\n"
     ]
    }
   ],
   "source": [
    "# Kolmogorov-Smirnov test for Spain and Netherlands\n",
    "print('Testing null hypothesis for Spain and Netherlands earning:')\n",
    "print('Spain average earning:', earn_avg_es)\n",
    "print('Netherlands average earning:', earn_avg_nl)\n",
    "ks_statistic, pvalue = ks_2samp(earn_es, earn_nl)\n",
    "print('ks statistics:', ks_statistic)\n",
    "print('pvalue:', pvalue)\n",
    "if pvalue < 0.05:  # Using 95% confidence level\n",
    "  print('Null hypothesis is rejected, there is a significant difference between Spain and Netherlands earning')\n",
    "else:\n",
    "  print('Null hypothesis cant be rejected, no significant difference between Spain and Netherlands earning')"
   ]
  },
  {
   "cell_type": "markdown",
   "id": "5416457b",
   "metadata": {},
   "source": [
    "Agreeing to these comes about, Kolmogorov-Smirnov test was performed between the earning of Ireland and Spain and the p value was calculated as 0.099999999999999999 at 5% significance level. As this p-value is more prominent than 5% (0.05), the invalid theory cannot be rejected and it is expected that there's no factually critical contrast between the profit of Ireland and Spain.\n",
    "\n",
    "In conclusion, according to this test result, it can be said that there's no critical contrast between the earning of Ireland and Spain and the earning between the two nations are comparative or at the same level."
   ]
  },
  {
   "cell_type": "markdown",
   "id": "065d3ac5",
   "metadata": {},
   "source": [
    "### 2.5. Mann-Whitney U rank test"
   ]
  },
  {
   "cell_type": "code",
   "execution_count": 40,
   "id": "407039a6",
   "metadata": {},
   "outputs": [
    {
     "name": "stdout",
     "output_type": "stream",
     "text": [
      "Testing null hypothesis for Ireland and Netherlands earning:\n",
      "Ireland average earning: 3920.6666666666665\n",
      "Netherlands average earning: 3112.6666666666665\n",
      "statistics: 9.0\n",
      "pvalue: 0.1\n",
      "Null hypothesis cant be rejected, no significant difference between Ireland and Netherlands earning\n"
     ]
    }
   ],
   "source": [
    "# Mann-Whitney U test for Ireland and Netherlands\n",
    "print('Testing null hypothesis for Ireland and Netherlands earning:')\n",
    "print('Ireland average earning:', earn_avg_ie)\n",
    "print('Netherlands average earning:', earn_avg_nl)\n",
    "statistic, pvalue = mannwhitneyu(earn_ie, earn_nl)\n",
    "print('statistics:', statistic)\n",
    "print('pvalue:', pvalue)\n",
    "if pvalue < 0.05:  # Using 95% confidence level\n",
    "  print('Null hypothesis is rejected, there is a significant difference between Ireland and Netherlands earning')\n",
    "else:\n",
    "  print('Null hypothesis cant be rejected, no significant difference between Ireland and Netherlands earning')"
   ]
  },
  {
   "cell_type": "markdown",
   "id": "f893167f",
   "metadata": {},
   "source": [
    "Concurring to these comes about, the Mann-Whitney U test was performed between the earninf of Ireland and the Netherlands, and the p value was calculated as 0.1 at the 5% importance level. Since this p-value is more prominent than 5% (0.05), the invalid theory cannot be rejected and it is accepted that there's no measurably noteworthy distinction between the profit of Ireland and the Netherlands.\n",
    "\n",
    "In conclusion, agreeing to this test result, it can be said that there's no noteworthy contrast between the profit of Ireland and the Netherlands, and the earnings between the two nations are comparable or at the same level."
   ]
  },
  {
   "cell_type": "code",
   "execution_count": 41,
   "id": "2ef0b4cd",
   "metadata": {},
   "outputs": [
    {
     "name": "stdout",
     "output_type": "stream",
     "text": [
      "Testing null hypothesis for Netherlands and Spain earning:\n",
      "Netherlands average earning: 3920.6666666666665\n",
      "Spain average earning: 2131.3333333333335\n",
      "statistics: 9.0\n",
      "pvalue: 0.1\n",
      "Null hypothesis cant be rejected, no significant difference between Ireland and Spain earning\n"
     ]
    }
   ],
   "source": [
    "# Mann-Whitney U test for Ireland and Spain\n",
    "print('Testing null hypothesis for Netherlands and Spain earning:')\n",
    "print('Netherlands average earning:', earn_avg_ie)\n",
    "print('Spain average earning:', earn_avg_es)\n",
    "statistic, pvalue = mannwhitneyu(earn_ie, earn_es)\n",
    "print('statistics:', statistic)\n",
    "print('pvalue:', pvalue)\n",
    "if pvalue < 0.05:  # Using 95% confidence level\n",
    "  print('Null hypothesis is rejected, there is a significant difference between Ireland and Spain earning')\n",
    "else:\n",
    "  print('Null hypothesis cant be rejected, no significant difference between Ireland and Spain earning')"
   ]
  },
  {
   "cell_type": "markdown",
   "id": "85a0db51",
   "metadata": {},
   "source": [
    "This code performs the Mann-Whitney U test between Ireland and Spain's earnings, and if the resulting P value is less than 0.05, it is concluded that there is a statistically significant difference between Ireland and Spain's earnings and the null hypothesis is rejected. Otherwise, if the P value is greater than 0.05, it is assumed that there is no significant difference between the earnings of Ireland and Spain and the null hypothesis is not rejected."
   ]
  },
  {
   "cell_type": "code",
   "execution_count": 42,
   "id": "861d8832",
   "metadata": {},
   "outputs": [
    {
     "name": "stdout",
     "output_type": "stream",
     "text": [
      "Testing null hypothesis for Ireland and Netherlands earning:\n",
      "Netherlands average earning: 3112.6666666666665\n",
      "Spain average earning: 2131.3333333333335\n",
      "statistics: 9.0\n",
      "pvalue: 0.1\n",
      "Null hypothesis cant be rejected, no significant difference between Netherlands and Spain earning\n"
     ]
    }
   ],
   "source": [
    "# Mann-Whitney U test for Netherlands and Spain\n",
    "print('Testing null hypothesis for Ireland and Netherlands earning:')\n",
    "print('Netherlands average earning:', earn_avg_nl)\n",
    "print('Spain average earning:', earn_avg_es)\n",
    "statistic, pvalue = mannwhitneyu(earn_nl, earn_es)\n",
    "print('statistics:', statistic)\n",
    "print('pvalue:', pvalue)\n",
    "if pvalue < 0.05:  # Using 95% confidence level\n",
    "  print('Null hypothesis is rejected, there is a significant difference between Netherlands and Netherlands earning')\n",
    "else:\n",
    "  print('Null hypothesis cant be rejected, no significant difference between Netherlands and Spain earning')"
   ]
  },
  {
   "cell_type": "markdown",
   "id": "8a1b9ed2",
   "metadata": {},
   "source": [
    "In this code, the Mann-Whitney U test is performed between the Netherlands and Spain's earnings. The P value was calculated as 0.1 at the 5% noteworthiness level. Since this p-value is more prominent than 5%, the invalid theory cannot be rejected and it is accepted that there's no measurably critical contrast between the profit of the Netherlands and Spain.\n",
    "\n",
    "In conclusion, concurring to this test result, it can be said that there's no noteworthy distinction between the earnings of the Netherlands and Spain. That's , profit between the two nations are comparable or at the same level. In any case, in case the p-value was less than 0.05, the invalid theory may be rejected and it might be acknowledged that there's a measurably critical distinction between the earnings of the Netherlands and Spain."
   ]
  },
  {
   "cell_type": "markdown",
   "id": "deef6dca",
   "metadata": {},
   "source": [
    "### 2.6. Kruskal-Wallis H-test"
   ]
  },
  {
   "cell_type": "code",
   "execution_count": 43,
   "id": "1d00c7da",
   "metadata": {},
   "outputs": [
    {
     "name": "stdout",
     "output_type": "stream",
     "text": [
      "Testing null hypothesis for Ireland and Netherlands earning:\n",
      "Ireland average production: 3920.6666666666665\n",
      "Netherlands average production: 3112.6666666666665\n",
      "statistics: 3.857142857142854\n",
      "pvalue: 0.049534613435626915\n",
      "Null hypothesis is rejected, there is a significant difference between Ireland and Netherlands earning\n"
     ]
    }
   ],
   "source": [
    "# Kruskal-Wallis H-test for Ireland and Netherlands\n",
    "print('Testing null hypothesis for Ireland and Netherlands earning:')\n",
    "print('Ireland average production:', earn_avg_ie)\n",
    "print('Netherlands average production:', earn_avg_nl)\n",
    "statistic, pvalue = kruskal(earn_ie, earn_nl)\n",
    "print('statistics:', statistic)\n",
    "print('pvalue:', pvalue)\n",
    "if pvalue < 0.05:  # Using 95% confidence level\n",
    "  print('Null hypothesis is rejected, there is a significant difference between Ireland and Netherlands earning')\n",
    "else:\n",
    "  print('Null hypothesis cant be rejected, no significant difference between Ireland and Netherlands earning')"
   ]
  },
  {
   "cell_type": "markdown",
   "id": "ebef544b",
   "metadata": {},
   "source": [
    "In this code, the Kruskal-Wallis H-test is performed between the picks up of Ireland and the Netherlands. Since the calculated p value is less than 5% (0.05) noteworthiness level, the invalid theory is rejected. This implies that there's a measurably noteworthy distinction between the earnings of Ireland and the Netherlands.\n",
    "\n",
    "As a result, it can be said that there's a critical distinction between the earnings of Ireland and the Netherlands according to the Kruskal-Wallis H-test result. That's , the earnings between the two nations are diverse and this distinction is measurably noteworthy."
   ]
  },
  {
   "cell_type": "code",
   "execution_count": 44,
   "id": "9317d554",
   "metadata": {},
   "outputs": [
    {
     "name": "stdout",
     "output_type": "stream",
     "text": [
      "Testing null hypothesis for Ireland and Spain earning:\n",
      "Ireland average production: 3920.6666666666665\n",
      "Spain average production: 2131.3333333333335\n",
      "statistics: 3.857142857142854\n",
      "pvalue: 0.049534613435626915\n",
      "Null hypothesis is rejected, there is a significant difference between Ireland and Spain earning\n"
     ]
    }
   ],
   "source": [
    "# Kruskal-Wallis H-test for Ireland and Spain\n",
    "print('Testing null hypothesis for Ireland and Spain earning:')\n",
    "print('Ireland average production:', earn_avg_ie)\n",
    "print('Spain average production:', earn_avg_es)\n",
    "statistic, pvalue = kruskal(earn_ie, earn_es)\n",
    "print('statistics:', statistic)\n",
    "print('pvalue:', pvalue)\n",
    "if pvalue < 0.05:  # Using 95% confidence level\n",
    "  print('Null hypothesis is rejected, there is a significant difference between Ireland and Spain earning')\n",
    "else:\n",
    "  print('Null hypothesis cant be rejected, no significant difference between Ireland and Spain earning')"
   ]
  },
  {
   "cell_type": "markdown",
   "id": "30a87c46",
   "metadata": {},
   "source": [
    "This code performs the Kruskal-Wallis H-test between the picks up of Ireland and Spain. Since the calculated p value is less than 5% (0.05) importance level, the invalid theory is rejected. In this case, it is accepted that there's a measurably critical distinction between the earnings of Ireland and Spain. That's , the earnings between the two nations are distinctive and this contrast is factually critical."
   ]
  },
  {
   "cell_type": "code",
   "execution_count": 45,
   "id": "01152864",
   "metadata": {},
   "outputs": [
    {
     "name": "stdout",
     "output_type": "stream",
     "text": [
      "Testing null hypothesis for Netherlands and Spain earning:\n",
      "Netherlands average production: 3112.6666666666665\n",
      "Spain average production: 2131.3333333333335\n",
      "statistics: 3.857142857142854\n",
      "pvalue: 0.049534613435626915\n",
      "Null hypothesis is rejected, there is a significant difference between Netherlands and Spain earning\n"
     ]
    }
   ],
   "source": [
    "# Kruskal-Wallis H-test for Netherlands and Spain\n",
    "print('Testing null hypothesis for Netherlands and Spain earning:')\n",
    "print('Netherlands average production:', earn_avg_nl)\n",
    "print('Spain average production:', earn_avg_es)\n",
    "statistic, pvalue = kruskal(earn_nl, earn_es)\n",
    "print('statistics:', statistic)\n",
    "print('pvalue:', pvalue)\n",
    "if pvalue < 0.05:  # Using 95% confidence level\n",
    "  print('Null hypothesis is rejected, there is a significant difference between Netherlands and Spain earning')\n",
    "else:\n",
    "  print('Null hypothesis cant be rejected, no significant difference between Netherlands and Spain earning')"
   ]
  },
  {
   "cell_type": "markdown",
   "id": "cda229ca",
   "metadata": {},
   "source": [
    "In this code, the Kruskal-Wallis H-test is performed between the Netherlands and Spain's earnings. Since the P value is less than 5% (0.05) importance level, the invalid theory is rejected. That's , it is assumed that there's a measurably critical distinction between the profit of the Netherlands and Spain. Thus, it can be said that there's a critical distinction between the earnings of the Netherlands and Spain."
   ]
  }
 ],
 "metadata": {
  "kernelspec": {
   "display_name": "Python 3 (ipykernel)",
   "language": "python",
   "name": "python3"
  },
  "language_info": {
   "codemirror_mode": {
    "name": "ipython",
    "version": 3
   },
   "file_extension": ".py",
   "mimetype": "text/x-python",
   "name": "python",
   "nbconvert_exporter": "python",
   "pygments_lexer": "ipython3",
   "version": "3.9.12"
  }
 },
 "nbformat": 4,
 "nbformat_minor": 5
}
